{
 "cells": [
  {
   "cell_type": "code",
   "execution_count": 1,
   "metadata": {},
   "outputs": [],
   "source": [
    "using Pkg; haskey(Pkg.installed(),\"Knet\") || Pkg.add(\"Knet\")\n",
    "using Statistics: mean\n",
    "using Base.Iterators: cycle\n",
    "using Knet: Knet, AutoGrad, Data, param, param0, mat, RNN, dropout, value, nll, adam, minibatch, progress!, converge, Random"
   ]
  },
  {
   "cell_type": "code",
   "execution_count": 2,
   "metadata": {},
   "outputs": [],
   "source": [
    "using Knet: TimerOutputs"
   ]
  },
  {
   "cell_type": "code",
   "execution_count": 3,
   "metadata": {},
   "outputs": [],
   "source": [
    "# Set display width, load packages, import symbols\n",
    "ENV[\"COLUMNS\"]=72\n",
    "using Pkg; for p in (\"Knet\",\"Plots\"); haskey(Pkg.installed(),p) || Pkg.add(p); end\n",
    "using Knet: Knet, dir, zeroone, progress, sgd, load, save, gc, Param, KnetArray, gpu, Data, nll, relu, training, dropout # param, param0, xavier\n",
    "using Statistics: mean\n",
    "using Base.Iterators: flatten"
   ]
  },
  {
   "cell_type": "code",
   "execution_count": 4,
   "metadata": {},
   "outputs": [],
   "source": [
    "import LinearAlgebra\n",
    "using Plots; default(fmt=:png,ls=:auto)"
   ]
  },
  {
   "cell_type": "code",
   "execution_count": 5,
   "metadata": {
    "scrolled": true
   },
   "outputs": [
    {
     "data": {
      "text/plain": [
       "KnetArray"
      ]
     },
     "execution_count": 5,
     "metadata": {},
     "output_type": "execute_result"
    }
   ],
   "source": [
    "atype = Knet.gpu()>=0 ? Knet.KnetArray : Array"
   ]
  },
  {
   "cell_type": "code",
   "execution_count": 6,
   "metadata": {
    "scrolled": true
   },
   "outputs": [
    {
     "data": {
      "text/plain": [
       "Dict{String,Int8} with 37 entries:\n",
       "  \"reparandum\" => 35\n",
       "  \"root\"       => 1\n",
       "  \"vocative\"   => 36\n",
       "  \"csubj\"      => 15\n",
       "  \"advmod\"     => 4\n",
       "  \"expl\"       => 20\n",
       "  \"iobj\"       => 24\n",
       "  \"mark\"       => 26\n",
       "  \"advcl\"      => 3\n",
       "  \"nmod\"       => 27\n",
       "  \"parataxis\"  => 33\n",
       "  \"orphan\"     => 32\n",
       "  \"nsubj\"      => 28\n",
       "  \"discourse\"  => 18\n",
       "  \"dep\"        => 16\n",
       "  \"appos\"      => 6\n",
       "  \"ccomp\"      => 10\n",
       "  \"conj\"       => 13\n",
       "  \"goeswith\"   => 23\n",
       "  \"list\"       => 25\n",
       "  \"xcomp\"      => 37\n",
       "  \"amod\"       => 5\n",
       "  \"aux\"        => 7\n",
       "  \"acl\"        => 2\n",
       "  \"case\"       => 8\n",
       "  ⋮            => ⋮"
      ]
     },
     "execution_count": 6,
     "metadata": {},
     "output_type": "execute_result"
    }
   ],
   "source": [
    "UDEPREL = Dict{String,Int8}(\n",
    "\"root\"       => 1,  # root\n",
    "\"acl\"        => 2,  # clausal modifier of noun (adjectival clause)\n",
    "\"advcl\"      => 3,  # adverbial clause modifier\n",
    "\"advmod\"     => 4,  # adverbial modifier\n",
    "\"amod\"       => 5,  # adjectival modifier\n",
    "\"appos\"      => 6,  # appositional modifier\n",
    "\"aux\"        => 7,  # auxiliary\n",
    "\"case\"       => 8,  # case marking\n",
    "\"cc\"         => 9,  # coordinating conjunction\n",
    "\"ccomp\"      => 10, # clausal complement\n",
    "\"clf\"        => 11, # classifier\n",
    "\"compound\"   => 12, # compound\n",
    "\"conj\"       => 13, # conjunct\n",
    "\"cop\"        => 14, # copula\n",
    "\"csubj\"      => 15, # clausal subject\n",
    "\"dep\"        => 16, # unspecified dependency\n",
    "\"det\"        => 17, # determiner\n",
    "\"discourse\"  => 18, # discourse element\n",
    "\"dislocated\" => 19, # dislocated elements\n",
    "\"expl\"       => 20, # expletive\n",
    "\"fixed\"      => 21, # fixed multiword expression\n",
    "\"flat\"       => 22, # flat multiword expression\n",
    "\"goeswith\"   => 23, # goes with\n",
    "\"iobj\"       => 24, # indirect object\n",
    "\"list\"       => 25, # list\n",
    "\"mark\"       => 26, # marker\n",
    "\"nmod\"       => 27, # nominal modifier\n",
    "\"nsubj\"      => 28, # nominal subject\n",
    "\"nummod\"     => 29, # numeric modifier\n",
    "\"obj\"        => 30, # object\n",
    "\"obl\"        => 31, # oblique nominal\n",
    "\"orphan\"     => 32, # orphan\n",
    "\"parataxis\"  => 33, # parataxis\n",
    "\"punct\"      => 34, # punctuation\n",
    "\"reparandum\" => 35, # overridden disfluency\n",
    "\"vocative\"   => 36, # vocative\n",
    "\"xcomp\"      => 37, # open clausal complement\n",
    ")"
   ]
  },
  {
   "cell_type": "code",
   "execution_count": 7,
   "metadata": {},
   "outputs": [
    {
     "data": {
      "text/plain": [
       "load_data2 (generic function with 1 method)"
      ]
     },
     "execution_count": 7,
     "metadata": {},
     "output_type": "execute_result"
    }
   ],
   "source": [
    "function load_data2(path)\n",
    "    xtrain, ytrain = open(path) do f\n",
    "    xtrain = []\n",
    "    ytrain = []\n",
    "    sentence = []\n",
    "    arcs = []\n",
    "    count = 1\n",
    "    for i in enumerate(eachline(f))  \n",
    "      if i[2] == \"\"\n",
    "        push!(xtrain, sentence)\n",
    "        labels = zeros(count, count)\n",
    "        push!(ytrain, arcs)\n",
    "      elseif i[2][1] != '#'\n",
    "        temp = split(i[2])\n",
    "        if temp[1] == \"1\"\n",
    "            sentence = []\n",
    "            arcs = []\n",
    "            push!(sentence, temp[2])\n",
    "            push!(arcs, parse(Int64, temp[7]))\n",
    "            count = 1\n",
    "        else\n",
    "            push!(sentence, temp[2]) \n",
    "            if isnumeric(temp[7][1])\n",
    "                push!(arcs, parse(Int64, temp[7]))\n",
    "            else\n",
    "                push!(arcs, 0)\n",
    "            end\n",
    "            count += 1\n",
    "        end\n",
    "      end\n",
    "    end\n",
    "    xtrain, ytrain\n",
    "    end\n",
    "    xtrain, ytrain\n",
    "end"
   ]
  },
  {
   "cell_type": "code",
   "execution_count": 8,
   "metadata": {},
   "outputs": [
    {
     "data": {
      "text/plain": [
       "load_data3 (generic function with 1 method)"
      ]
     },
     "execution_count": 8,
     "metadata": {},
     "output_type": "execute_result"
    }
   ],
   "source": [
    "function load_data3(path, UDEPREL)\n",
    "    xtrain, ytrain, deprels = open(path) do f\n",
    "    xtrain = []\n",
    "    ytrain = []\n",
    "    deprels = []\n",
    "    sentence = []\n",
    "    temprels = []\n",
    "    arcs = []\n",
    "    count = 1\n",
    "    for i in enumerate(eachline(f))  \n",
    "      if i[2] == \"\"\n",
    "        push!(xtrain, sentence)\n",
    "        labels = zeros(count, count)\n",
    "        push!(ytrain, arcs)\n",
    "        push!(deprels, temprels)\n",
    "      elseif i[2][1] != '#'\n",
    "        temp = split(i[2])\n",
    "        if temp[1] == \"1\"\n",
    "            sentence = []\n",
    "            arcs = []\n",
    "            temprels = []\n",
    "            push!(sentence, temp[2])\n",
    "            push!(arcs, parse(Int64, temp[7]))\n",
    "            tmp = split(temp[8], \":\")\n",
    "            push!(temprels, get(UDEPREL, lowercase(tmp[1]), 0))\n",
    "            count = 1\n",
    "        else\n",
    "            push!(sentence, temp[2]) \n",
    "            tmp = split(temp[8], \":\")\n",
    "            push!(temprels, get(UDEPREL, lowercase(tmp[1]), 0))\n",
    "            if isnumeric(temp[7][1])\n",
    "                push!(arcs, parse(Int64, temp[7]))\n",
    "            else\n",
    "                push!(arcs, 0)\n",
    "            end\n",
    "            count += 1\n",
    "        end\n",
    "      end\n",
    "    end\n",
    "    xtrain, ytrain, deprels\n",
    "    end\n",
    "    xtrain, ytrain, deprels\n",
    "end"
   ]
  },
  {
   "cell_type": "code",
   "execution_count": 9,
   "metadata": {},
   "outputs": [
    {
     "data": {
      "text/plain": [
       "load_embed (generic function with 1 method)"
      ]
     },
     "execution_count": 9,
     "metadata": {},
     "output_type": "execute_result"
    }
   ],
   "source": [
    "function load_embed(path)\n",
    "    wembed, wembedind = open(path) do f\n",
    "        wembed = Dict()\n",
    "        wembedind = []\n",
    "        for i in enumerate(eachline(f))\n",
    "            line = i[2]\n",
    "            tokens = split(line)\n",
    "            key = tokens[1]\n",
    "            temp = Array{Float32, 1}()\n",
    "            for token in tokens[2:end]\n",
    "                tmp = tryparse(Float32, token)\n",
    "                append!(temp, tmp)\n",
    "            end\n",
    "            wembed[key] = i[1]\n",
    "            push!(wembedind,temp)\n",
    "        end\n",
    "        wembed, wembedind\n",
    "    end\n",
    "    wembed, wembedind\n",
    "end"
   ]
  },
  {
   "cell_type": "code",
   "execution_count": 10,
   "metadata": {},
   "outputs": [
    {
     "data": {
      "text/plain": [
       "take_input (generic function with 1 method)"
      ]
     },
     "execution_count": 10,
     "metadata": {},
     "output_type": "execute_result"
    }
   ],
   "source": [
    "function take_input(sentence)\n",
    "    x = []\n",
    "    words = split(sentence)\n",
    "    for word in words\n",
    "        if occursin(\"'\", word)\n",
    "            if occursin(\"n't\", word)\n",
    "                push!(x, word[1:end-3])\n",
    "                push!(x, word[end-2:end])\n",
    "            else\n",
    "                temp = split(word, \"'\")\n",
    "                push!(x, temp[1])\n",
    "                push!(x, \"'\" * temp[2])\n",
    "            end\n",
    "            elseif (word[end] >= 'z' || word[end] <= 'A') && !isnumeric(word[end])\n",
    "            push!(x, word[1:end-1])\n",
    "            push!(x, word[end:end])\n",
    "        else\n",
    "            push!(x, word)\n",
    "        end    \n",
    "    end\n",
    "    x\n",
    "end"
   ]
  },
  {
   "cell_type": "code",
   "execution_count": 11,
   "metadata": {},
   "outputs": [
    {
     "data": {
      "text/plain": [
       "399999"
      ]
     },
     "execution_count": 11,
     "metadata": {},
     "output_type": "execute_result"
    }
   ],
   "source": [
    "rootind = 399999"
   ]
  },
  {
   "cell_type": "code",
   "execution_count": 12,
   "metadata": {},
   "outputs": [
    {
     "data": {
      "text/plain": [
       "getind (generic function with 1 method)"
      ]
     },
     "execution_count": 12,
     "metadata": {},
     "output_type": "execute_result"
    }
   ],
   "source": [
    "function getind(word; max=400000, root=false)\n",
    "    abc = get(wembed,lowercase(word),-1)\n",
    "    if root == true\n",
    "        return max-1\n",
    "    elseif (abc >= 0)\n",
    "        return abc\n",
    "    else\n",
    "        return max\n",
    "    end\n",
    "end"
   ]
  },
  {
   "cell_type": "code",
   "execution_count": 13,
   "metadata": {
    "scrolled": true
   },
   "outputs": [
    {
     "data": {
      "text/plain": [
       "(Any[Any[\"Al\", \"-\", \"Zaman\", \":\", \"American\", \"forces\", \"killed\", \"Shaikh\", \"Abdullah\", \"al\"  …  \"the\", \"town\", \"of\", \"Qaim\", \",\", \"near\", \"the\", \"Syrian\", \"border\", \".\"], Any[\"[\", \"This\", \"killing\", \"of\", \"a\", \"respected\", \"cleric\", \"will\", \"be\", \"causing\", \"us\", \"trouble\", \"for\", \"years\", \"to\", \"come\", \".\", \"]\"], Any[\"DPA\", \":\", \"Iraqi\", \"authorities\", \"announced\", \"that\", \"they\", \"had\", \"busted\", \"up\", \"3\", \"terrorist\", \"cells\", \"operating\", \"in\", \"Baghdad\", \".\"], Any[\"Two\", \"of\", \"them\", \"were\", \"being\", \"run\", \"by\", \"2\", \"officials\", \"of\", \"the\", \"Ministry\", \"of\", \"the\", \"Interior\", \"!\"], Any[\"The\", \"MoI\", \"in\", \"Iraq\", \"is\", \"equivalent\", \"to\", \"the\", \"US\", \"FBI\"  …  \"members\", \"of\", \"the\", \"Weathermen\", \"bombers\", \"back\", \"in\", \"the\", \"1960s\", \".\"], Any[\"The\", \"third\", \"was\", \"being\", \"run\", \"by\", \"the\", \"head\", \"of\", \"an\", \"investment\", \"firm\", \".\"], Any[\"You\", \"wonder\", \"if\", \"he\", \"was\", \"manipulating\", \"the\", \"market\", \"with\", \"his\", \"bombing\", \"targets\", \".\"], Any[\"The\", \"cells\", \"were\", \"operating\", \"in\", \"the\", \"Ghazaliyah\", \"and\", \"al\", \"-\", \"Jihad\", \"districts\", \"of\", \"the\", \"capital\", \".\"], Any[\"Although\", \"the\", \"announcement\", \"was\", \"probably\", \"made\", \"to\", \"show\", \"progress\", \"in\"  …  \"Baathists\", \"continue\", \"to\", \"penetrate\", \"the\", \"Iraqi\", \"government\", \"very\", \"hopeful\", \".\"], Any[\"It\", \"reminds\", \"me\", \"too\", \"much\", \"of\", \"the\", \"ARVN\", \"officers\", \"who\", \"were\", \"secretly\", \"working\", \"for\", \"the\", \"other\", \"side\", \"in\", \"Vietnam\", \".\"]  …  Any[\"Over\", \"two\", \"hours\", \"later\", \"(\", \"and\", \"ten\", \"minutes\", \"before\", \"they\", \"closed\", \")\", \"my\", \"car\", \"was\", \"finally\", \"finished\", \".\"], Any[\"A\", \"few\", \"minutes\", \"after\", \"I\", \"left\", \",\", \"I\", \"was\", \"called\"  …  \"which\", \"they\", \"should\", \"have\", \"left\", \"in\", \"the\", \"car\", \")\", \".\"], Any[\"Of\", \"course\", \",\", \"they\", \"would\", \"be\", \"closing\", \"in\", \"5\", \"minutes\"  …  \"to\", \"hurry\", \"up\", \"or\", \"get\", \"it\", \"the\", \"next\", \"day\", \".\"], Any[\"Of\", \"course\", \"I\", \"could\", \"n't\", \"make\", \"it\", \"back\", \"in\", \"time\"  …  \"stay\", \"5\", \"extra\", \"minutes\", \"to\", \"wait\", \"for\", \"me\", \")\", \".\"], Any[\"The\", \"next\", \"day\", \",\", \"no\", \"one\", \"could\", \"find\", \"my\", \"wheel\", \"lock\", \"and\", \"that\", \"particular\", \"technician\", \"was\", \"not\", \"in\", \".\"], Any[\"Of\", \"course\", \",\", \"they\", \"could\", \"n't\", \"call\", \"him\", \"either\", \"to\"  …  \"no\", \"wheel\", \"lock\", \"should\", \"I\", \"get\", \"a\", \"flat\", \")\", \".\"], Any[\"On\", \"Monday\", \"I\", \"called\", \"and\", \"again\", \"it\", \"was\", \"a\", \"big\"  …  \"do\", \"to\", \"find\", \"anyone\", \"who\", \"knew\", \"anything\", \"about\", \"it\", \".\"], Any[\"Supposedly\", \"they\", \"will\", \"be\", \"holding\", \"it\", \"for\", \"me\", \"this\", \"evening\"  …  \"'m\", \"sure\", \"that\", \"will\", \"also\", \"be\", \"a\", \"huge\", \"ordeal\", \".\"], Any[\"The\", \"employees\", \"at\", \"this\", \"Sear's\", \"are\", \"completely\", \"apathetic\", \"and\", \"there\"  …  \"be\", \"any\", \"sort\", \"of\", \"management\", \"that\", \"I\", \"could\", \"see\", \".\"], Any[\"I\", \"will\", \"never\", \"return\", \"there\", \"again\", \"(\", \"and\", \"now\", \"have\"  …  \"of\", \"work\", \"they\", \"actually\", \"performed\", \"on\", \"my\", \"car\", \")\", \".\"]], Any[Any[0, 1, 1, 1, 6, 7, 1, 7, 8, 8  …  21, 18, 23, 21, 21, 28, 28, 28, 21, 1], Any[10, 3, 10, 7, 7, 7, 3, 10, 10, 0, 10, 10, 14, 10, 16, 14, 10, 10], Any[0, 1, 4, 5, 1, 9, 9, 9, 5, 9, 13, 13, 9, 13, 16, 14, 1], Any[6, 3, 1, 6, 6, 0, 9, 9, 6, 12, 12, 9, 15, 15, 12, 6], Any[2, 6, 4, 2, 6, 0, 10, 10, 10, 6  …  22, 31, 31, 31, 27, 35, 35, 35, 22, 6], Any[2, 5, 5, 5, 0, 8, 8, 5, 12, 12, 12, 8, 5], Any[2, 0, 6, 6, 6, 2, 8, 6, 12, 12, 12, 6, 2], Any[2, 4, 4, 0, 12, 12, 12, 11, 11, 11, 7, 4, 15, 15, 12, 4], Any[6, 3, 6, 6, 6, 21, 8, 6, 8, 11  …  27, 23, 29, 27, 32, 32, 29, 34, 21, 21], Any[2, 0, 2, 5, 2, 9, 9, 9, 2, 13, 13, 13, 9, 17, 17, 17, 13, 19, 13, 2]  …  Any[2, 3, 4, 17, 4, 11, 8, 9, 11, 11, 4, 4, 14, 17, 17, 17, 0, 17], Any[3, 3, 6, 6, 6, 10, 10, 10, 10, 0  …  26, 26, 26, 26, 20, 29, 29, 26, 26, 10], Any[7, 1, 7, 7, 7, 7, 0, 10, 10, 7  …  17, 15, 17, 20, 17, 20, 24, 24, 20, 7], Any[6, 1, 6, 6, 6, 0, 6, 6, 10, 6  …  6, 20, 20, 17, 22, 17, 24, 22, 6, 6], Any[3, 3, 8, 8, 6, 8, 8, 0, 11, 11, 8, 18, 15, 15, 18, 18, 18, 8, 8], Any[7, 1, 7, 7, 7, 7, 0, 7, 7, 11  …  46, 46, 38, 49, 49, 38, 51, 49, 38, 7], Any[2, 4, 4, 0, 13, 13, 13, 13, 13, 13  …  4, 15, 13, 15, 18, 16, 18, 21, 19, 4], Any[5, 5, 5, 5, 0, 5, 8, 5, 10, 5  …  15, 5, 22, 22, 22, 22, 22, 22, 15, 5], Any[2, 8, 5, 5, 2, 8, 8, 0, 13, 13  …  13, 17, 15, 19, 17, 23, 23, 23, 19, 8], Any[4, 4, 4, 0, 4, 4, 4, 10, 10, 4  …  18, 16, 21, 21, 18, 24, 24, 21, 4, 4]])"
      ]
     },
     "execution_count": 13,
     "metadata": {},
     "output_type": "execute_result"
    }
   ],
   "source": [
    "data2 = load_data2(\"en_ewt-ud-train.conllu\")"
   ]
  },
  {
   "cell_type": "code",
   "execution_count": 14,
   "metadata": {},
   "outputs": [
    {
     "data": {
      "text/plain": [
       "(Any[Any[\"Al\", \"-\", \"Zaman\", \":\", \"American\", \"forces\", \"killed\", \"Shaikh\", \"Abdullah\", \"al\"  …  \"the\", \"town\", \"of\", \"Qaim\", \",\", \"near\", \"the\", \"Syrian\", \"border\", \".\"], Any[\"[\", \"This\", \"killing\", \"of\", \"a\", \"respected\", \"cleric\", \"will\", \"be\", \"causing\", \"us\", \"trouble\", \"for\", \"years\", \"to\", \"come\", \".\", \"]\"], Any[\"DPA\", \":\", \"Iraqi\", \"authorities\", \"announced\", \"that\", \"they\", \"had\", \"busted\", \"up\", \"3\", \"terrorist\", \"cells\", \"operating\", \"in\", \"Baghdad\", \".\"], Any[\"Two\", \"of\", \"them\", \"were\", \"being\", \"run\", \"by\", \"2\", \"officials\", \"of\", \"the\", \"Ministry\", \"of\", \"the\", \"Interior\", \"!\"], Any[\"The\", \"MoI\", \"in\", \"Iraq\", \"is\", \"equivalent\", \"to\", \"the\", \"US\", \"FBI\"  …  \"members\", \"of\", \"the\", \"Weathermen\", \"bombers\", \"back\", \"in\", \"the\", \"1960s\", \".\"], Any[\"The\", \"third\", \"was\", \"being\", \"run\", \"by\", \"the\", \"head\", \"of\", \"an\", \"investment\", \"firm\", \".\"], Any[\"You\", \"wonder\", \"if\", \"he\", \"was\", \"manipulating\", \"the\", \"market\", \"with\", \"his\", \"bombing\", \"targets\", \".\"], Any[\"The\", \"cells\", \"were\", \"operating\", \"in\", \"the\", \"Ghazaliyah\", \"and\", \"al\", \"-\", \"Jihad\", \"districts\", \"of\", \"the\", \"capital\", \".\"], Any[\"Although\", \"the\", \"announcement\", \"was\", \"probably\", \"made\", \"to\", \"show\", \"progress\", \"in\"  …  \"Baathists\", \"continue\", \"to\", \"penetrate\", \"the\", \"Iraqi\", \"government\", \"very\", \"hopeful\", \".\"], Any[\"It\", \"reminds\", \"me\", \"too\", \"much\", \"of\", \"the\", \"ARVN\", \"officers\", \"who\", \"were\", \"secretly\", \"working\", \"for\", \"the\", \"other\", \"side\", \"in\", \"Vietnam\", \".\"]  …  Any[\"Over\", \"two\", \"hours\", \"later\", \"(\", \"and\", \"ten\", \"minutes\", \"before\", \"they\", \"closed\", \")\", \"my\", \"car\", \"was\", \"finally\", \"finished\", \".\"], Any[\"A\", \"few\", \"minutes\", \"after\", \"I\", \"left\", \",\", \"I\", \"was\", \"called\"  …  \"which\", \"they\", \"should\", \"have\", \"left\", \"in\", \"the\", \"car\", \")\", \".\"], Any[\"Of\", \"course\", \",\", \"they\", \"would\", \"be\", \"closing\", \"in\", \"5\", \"minutes\"  …  \"to\", \"hurry\", \"up\", \"or\", \"get\", \"it\", \"the\", \"next\", \"day\", \".\"], Any[\"Of\", \"course\", \"I\", \"could\", \"n't\", \"make\", \"it\", \"back\", \"in\", \"time\"  …  \"stay\", \"5\", \"extra\", \"minutes\", \"to\", \"wait\", \"for\", \"me\", \")\", \".\"], Any[\"The\", \"next\", \"day\", \",\", \"no\", \"one\", \"could\", \"find\", \"my\", \"wheel\", \"lock\", \"and\", \"that\", \"particular\", \"technician\", \"was\", \"not\", \"in\", \".\"], Any[\"Of\", \"course\", \",\", \"they\", \"could\", \"n't\", \"call\", \"him\", \"either\", \"to\"  …  \"no\", \"wheel\", \"lock\", \"should\", \"I\", \"get\", \"a\", \"flat\", \")\", \".\"], Any[\"On\", \"Monday\", \"I\", \"called\", \"and\", \"again\", \"it\", \"was\", \"a\", \"big\"  …  \"do\", \"to\", \"find\", \"anyone\", \"who\", \"knew\", \"anything\", \"about\", \"it\", \".\"], Any[\"Supposedly\", \"they\", \"will\", \"be\", \"holding\", \"it\", \"for\", \"me\", \"this\", \"evening\"  …  \"'m\", \"sure\", \"that\", \"will\", \"also\", \"be\", \"a\", \"huge\", \"ordeal\", \".\"], Any[\"The\", \"employees\", \"at\", \"this\", \"Sear's\", \"are\", \"completely\", \"apathetic\", \"and\", \"there\"  …  \"be\", \"any\", \"sort\", \"of\", \"management\", \"that\", \"I\", \"could\", \"see\", \".\"], Any[\"I\", \"will\", \"never\", \"return\", \"there\", \"again\", \"(\", \"and\", \"now\", \"have\"  …  \"of\", \"work\", \"they\", \"actually\", \"performed\", \"on\", \"my\", \"car\", \")\", \".\"]], Any[Any[0, 1, 1, 1, 6, 7, 1, 7, 8, 8  …  21, 18, 23, 21, 21, 28, 28, 28, 21, 1], Any[10, 3, 10, 7, 7, 7, 3, 10, 10, 0, 10, 10, 14, 10, 16, 14, 10, 10], Any[0, 1, 4, 5, 1, 9, 9, 9, 5, 9, 13, 13, 9, 13, 16, 14, 1], Any[6, 3, 1, 6, 6, 0, 9, 9, 6, 12, 12, 9, 15, 15, 12, 6], Any[2, 6, 4, 2, 6, 0, 10, 10, 10, 6  …  22, 31, 31, 31, 27, 35, 35, 35, 22, 6], Any[2, 5, 5, 5, 0, 8, 8, 5, 12, 12, 12, 8, 5], Any[2, 0, 6, 6, 6, 2, 8, 6, 12, 12, 12, 6, 2], Any[2, 4, 4, 0, 12, 12, 12, 11, 11, 11, 7, 4, 15, 15, 12, 4], Any[6, 3, 6, 6, 6, 21, 8, 6, 8, 11  …  27, 23, 29, 27, 32, 32, 29, 34, 21, 21], Any[2, 0, 2, 5, 2, 9, 9, 9, 2, 13, 13, 13, 9, 17, 17, 17, 13, 19, 13, 2]  …  Any[2, 3, 4, 17, 4, 11, 8, 9, 11, 11, 4, 4, 14, 17, 17, 17, 0, 17], Any[3, 3, 6, 6, 6, 10, 10, 10, 10, 0  …  26, 26, 26, 26, 20, 29, 29, 26, 26, 10], Any[7, 1, 7, 7, 7, 7, 0, 10, 10, 7  …  17, 15, 17, 20, 17, 20, 24, 24, 20, 7], Any[6, 1, 6, 6, 6, 0, 6, 6, 10, 6  …  6, 20, 20, 17, 22, 17, 24, 22, 6, 6], Any[3, 3, 8, 8, 6, 8, 8, 0, 11, 11, 8, 18, 15, 15, 18, 18, 18, 8, 8], Any[7, 1, 7, 7, 7, 7, 0, 7, 7, 11  …  46, 46, 38, 49, 49, 38, 51, 49, 38, 7], Any[2, 4, 4, 0, 13, 13, 13, 13, 13, 13  …  4, 15, 13, 15, 18, 16, 18, 21, 19, 4], Any[5, 5, 5, 5, 0, 5, 8, 5, 10, 5  …  15, 5, 22, 22, 22, 22, 22, 22, 15, 5], Any[2, 8, 5, 5, 2, 8, 8, 0, 13, 13  …  13, 17, 15, 19, 17, 23, 23, 23, 19, 8], Any[4, 4, 4, 0, 4, 4, 4, 10, 10, 4  …  18, 16, 21, 21, 18, 24, 24, 21, 4, 4]], Any[Any[1, 34, 22, 34, 5, 28, 33, 30, 22, 22  …  17, 27, 8, 27, 34, 8, 17, 5, 27, 34], Any[34, 17, 28, 8, 17, 5, 27, 7, 7, 1, 24, 30, 8, 31, 26, 2, 34, 34], Any[1, 34, 5, 28, 33, 26, 28, 7, 10, 12, 29, 5, 30, 2, 8, 31, 34], Any[28, 8, 27, 7, 7, 1, 8, 29, 31, 8, 17, 27, 8, 17, 27, 34], Any[17, 28, 8, 27, 14, 1, 8, 17, 12, 31  …  30, 8, 17, 12, 27, 4, 8, 17, 31, 34], Any[17, 28, 7, 7, 1, 8, 17, 31, 8, 17, 12, 27, 34], Any[28, 1, 26, 28, 7, 10, 17, 30, 8, 27, 12, 31, 34], Any[17, 28, 7, 1, 8, 17, 12, 9, 12, 34, 13, 31, 8, 17, 27, 34], Any[26, 17, 28, 7, 4, 3, 26, 37, 30, 26  …  28, 2, 26, 37, 17, 5, 30, 4, 37, 34], Any[28, 1, 30, 4, 4, 8, 17, 12, 31, 28, 7, 4, 2, 8, 17, 5, 31, 8, 31, 34]  …  Any[4, 29, 31, 4, 34, 9, 29, 31, 26, 28, 13, 34, 27, 28, 7, 4, 1, 34], Any[17, 5, 31, 26, 28, 3, 34, 28, 7, 1  …  30, 28, 7, 7, 2, 8, 17, 31, 34, 34], Any[4, 21, 34, 28, 7, 7, 1, 8, 29, 31  …  26, 37, 12, 9, 13, 30, 17, 5, 31, 34], Any[4, 21, 28, 7, 4, 1, 30, 4, 8, 31  …  13, 29, 5, 31, 26, 3, 8, 31, 34, 34], Any[17, 5, 31, 34, 17, 28, 7, 1, 27, 12, 30, 9, 17, 5, 28, 14, 4, 13, 34], Any[4, 21, 34, 28, 7, 4, 1, 30, 4, 26  …  17, 12, 31, 7, 28, 3, 17, 30, 34, 34], Any[8, 31, 28, 1, 9, 4, 20, 14, 17, 5  …  13, 26, 15, 30, 28, 2, 30, 8, 27, 34], Any[4, 28, 7, 7, 1, 30, 8, 31, 17, 31  …  14, 13, 28, 7, 4, 14, 17, 5, 10, 34], Any[17, 28, 8, 17, 27, 14, 4, 1, 9, 20  …  15, 17, 28, 8, 27, 30, 28, 7, 2, 34], Any[28, 7, 4, 1, 4, 4, 34, 9, 4, 13  …  8, 27, 28, 4, 2, 8, 27, 31, 34, 34]])"
      ]
     },
     "execution_count": 14,
     "metadata": {},
     "output_type": "execute_result"
    }
   ],
   "source": [
    "rdat1 = load_data3(\"en_ewt-ud-train.conllu\",UDEPREL)"
   ]
  },
  {
   "cell_type": "code",
   "execution_count": 15,
   "metadata": {
    "scrolled": true
   },
   "outputs": [
    {
     "data": {
      "text/plain": [
       "12543-element Array{Any,1}:\n",
       " Any[\"Al\", \"-\", \"Zaman\", \":\", \"American\", \"forces\", \"killed\", \"Shaikh\", \"Abdullah\", \"al\"  …  \"the\", \"town\", \"of\", \"Qaim\", \",\", \"near\", \"the\", \"Syrian\", \"border\", \".\"]                                 \n",
       " Any[\"[\", \"This\", \"killing\", \"of\", \"a\", \"respected\", \"cleric\", \"will\", \"be\", \"causing\", \"us\", \"trouble\", \"for\", \"years\", \"to\", \"come\", \".\", \"]\"]                                                       \n",
       " Any[\"DPA\", \":\", \"Iraqi\", \"authorities\", \"announced\", \"that\", \"they\", \"had\", \"busted\", \"up\", \"3\", \"terrorist\", \"cells\", \"operating\", \"in\", \"Baghdad\", \".\"]                                             \n",
       " Any[\"Two\", \"of\", \"them\", \"were\", \"being\", \"run\", \"by\", \"2\", \"officials\", \"of\", \"the\", \"Ministry\", \"of\", \"the\", \"Interior\", \"!\"]                                                                       \n",
       " Any[\"The\", \"MoI\", \"in\", \"Iraq\", \"is\", \"equivalent\", \"to\", \"the\", \"US\", \"FBI\"  …  \"members\", \"of\", \"the\", \"Weathermen\", \"bombers\", \"back\", \"in\", \"the\", \"1960s\", \".\"]                                  \n",
       " Any[\"The\", \"third\", \"was\", \"being\", \"run\", \"by\", \"the\", \"head\", \"of\", \"an\", \"investment\", \"firm\", \".\"]                                                                                                \n",
       " Any[\"You\", \"wonder\", \"if\", \"he\", \"was\", \"manipulating\", \"the\", \"market\", \"with\", \"his\", \"bombing\", \"targets\", \".\"]                                                                                    \n",
       " Any[\"The\", \"cells\", \"were\", \"operating\", \"in\", \"the\", \"Ghazaliyah\", \"and\", \"al\", \"-\", \"Jihad\", \"districts\", \"of\", \"the\", \"capital\", \".\"]                                                              \n",
       " Any[\"Although\", \"the\", \"announcement\", \"was\", \"probably\", \"made\", \"to\", \"show\", \"progress\", \"in\"  …  \"Baathists\", \"continue\", \"to\", \"penetrate\", \"the\", \"Iraqi\", \"government\", \"very\", \"hopeful\", \".\"]\n",
       " Any[\"It\", \"reminds\", \"me\", \"too\", \"much\", \"of\", \"the\", \"ARVN\", \"officers\", \"who\", \"were\", \"secretly\", \"working\", \"for\", \"the\", \"other\", \"side\", \"in\", \"Vietnam\", \".\"]                                 \n",
       " Any[\"Al\", \"-\", \"Zaman\", \":\", \"Guerrillas\", \"killed\", \"a\", \"member\", \"of\", \"the\", \"Kurdistan\", \"Democratic\", \"Party\", \"after\", \"kidnapping\", \"him\", \"in\", \"Mosul\", \".\"]                                \n",
       " Any[\"The\", \"police\", \"commander\", \"of\", \"Ninevah\", \"Province\", \"announced\", \"that\", \"bombings\", \"had\"  …  \"been\", \"a\", \"big\", \"jump\", \"in\", \"the\", \"number\", \"of\", \"kidnappings\", \".\"]                \n",
       " Any[\"On\", \"Wednesday\", \"guerrillas\", \"had\", \"kidnapped\", \"a\", \"cosmetic\", \"surgeon\", \"and\", \"his\", \"wife\", \"while\", \"they\", \"were\", \"on\", \"their\", \"way\", \"home\", \".\"]                                \n",
       " ⋮                                                                                                                                                                                                     \n",
       " Any[\"So\", \"I\", \"got\", \"just\", \"my\", \"other\", \"rear\", \"tire\", \"replaced\", \".\"]                                                                                                                         \n",
       " Any[\"They\", \"promised\", \"it\", \"'d\", \"be\", \"done\", \"within\", \"an\", \"hour\", \",\", \"so\", \"I\", \"waited\", \"in\", \"the\", \"lobby\", \".\"]                                                                        \n",
       " Any[\"Over\", \"two\", \"hours\", \"later\", \"(\", \"and\", \"ten\", \"minutes\", \"before\", \"they\", \"closed\", \")\", \"my\", \"car\", \"was\", \"finally\", \"finished\", \".\"]                                                   \n",
       " Any[\"A\", \"few\", \"minutes\", \"after\", \"I\", \"left\", \",\", \"I\", \"was\", \"called\"  …  \"which\", \"they\", \"should\", \"have\", \"left\", \"in\", \"the\", \"car\", \")\", \".\"]                                               \n",
       " Any[\"Of\", \"course\", \",\", \"they\", \"would\", \"be\", \"closing\", \"in\", \"5\", \"minutes\"  …  \"to\", \"hurry\", \"up\", \"or\", \"get\", \"it\", \"the\", \"next\", \"day\", \".\"]                                                \n",
       " Any[\"Of\", \"course\", \"I\", \"could\", \"n't\", \"make\", \"it\", \"back\", \"in\", \"time\"  …  \"stay\", \"5\", \"extra\", \"minutes\", \"to\", \"wait\", \"for\", \"me\", \")\", \".\"]                                                 \n",
       " Any[\"The\", \"next\", \"day\", \",\", \"no\", \"one\", \"could\", \"find\", \"my\", \"wheel\", \"lock\", \"and\", \"that\", \"particular\", \"technician\", \"was\", \"not\", \"in\", \".\"]                                               \n",
       " Any[\"Of\", \"course\", \",\", \"they\", \"could\", \"n't\", \"call\", \"him\", \"either\", \"to\"  …  \"no\", \"wheel\", \"lock\", \"should\", \"I\", \"get\", \"a\", \"flat\", \")\", \".\"]                                                \n",
       " Any[\"On\", \"Monday\", \"I\", \"called\", \"and\", \"again\", \"it\", \"was\", \"a\", \"big\"  …  \"do\", \"to\", \"find\", \"anyone\", \"who\", \"knew\", \"anything\", \"about\", \"it\", \".\"]                                           \n",
       " Any[\"Supposedly\", \"they\", \"will\", \"be\", \"holding\", \"it\", \"for\", \"me\", \"this\", \"evening\"  …  \"'m\", \"sure\", \"that\", \"will\", \"also\", \"be\", \"a\", \"huge\", \"ordeal\", \".\"]                                   \n",
       " Any[\"The\", \"employees\", \"at\", \"this\", \"Sear's\", \"are\", \"completely\", \"apathetic\", \"and\", \"there\"  …  \"be\", \"any\", \"sort\", \"of\", \"management\", \"that\", \"I\", \"could\", \"see\", \".\"]                       \n",
       " Any[\"I\", \"will\", \"never\", \"return\", \"there\", \"again\", \"(\", \"and\", \"now\", \"have\"  …  \"of\", \"work\", \"they\", \"actually\", \"performed\", \"on\", \"my\", \"car\", \")\", \".\"]                                       "
      ]
     },
     "execution_count": 15,
     "metadata": {},
     "output_type": "execute_result"
    }
   ],
   "source": [
    "rdat1[1]"
   ]
  },
  {
   "cell_type": "code",
   "execution_count": null,
   "metadata": {},
   "outputs": [],
   "source": []
  },
  {
   "cell_type": "code",
   "execution_count": 16,
   "metadata": {},
   "outputs": [
    {
     "data": {
      "text/latex": [
       "\\begin{verbatim}\n",
       "zip(iters...)\n",
       "\\end{verbatim}\n",
       "Run multiple iterators at the same time, until any of them is exhausted. The value type of the \\texttt{zip} iterator is a tuple of values of its subiterators.\n",
       "\n",
       "Note: \\texttt{zip} orders the calls to its subiterators in such a way that stateful iterators will not advance when another iterator finishes in the current iteration.\n",
       "\n",
       "\\section{Examples}\n",
       "\\begin{verbatim}\n",
       "julia> a = 1:5\n",
       "1:5\n",
       "\n",
       "julia> b = [\"e\",\"d\",\"b\",\"c\",\"a\"]\n",
       "5-element Array{String,1}:\n",
       " \"e\"\n",
       " \"d\"\n",
       " \"b\"\n",
       " \"c\"\n",
       " \"a\"\n",
       "\n",
       "julia> c = zip(a,b)\n",
       "Base.Iterators.Zip{Tuple{UnitRange{Int64},Array{String,1}}}((1:5, [\"e\", \"d\", \"b\", \"c\", \"a\"]))\n",
       "\n",
       "julia> length(c)\n",
       "5\n",
       "\n",
       "julia> first(c)\n",
       "(1, \"e\")\n",
       "\\end{verbatim}\n"
      ],
      "text/markdown": [
       "```\n",
       "zip(iters...)\n",
       "```\n",
       "\n",
       "Run multiple iterators at the same time, until any of them is exhausted. The value type of the `zip` iterator is a tuple of values of its subiterators.\n",
       "\n",
       "Note: `zip` orders the calls to its subiterators in such a way that stateful iterators will not advance when another iterator finishes in the current iteration.\n",
       "\n",
       "# Examples\n",
       "\n",
       "```jldoctest\n",
       "julia> a = 1:5\n",
       "1:5\n",
       "\n",
       "julia> b = [\"e\",\"d\",\"b\",\"c\",\"a\"]\n",
       "5-element Array{String,1}:\n",
       " \"e\"\n",
       " \"d\"\n",
       " \"b\"\n",
       " \"c\"\n",
       " \"a\"\n",
       "\n",
       "julia> c = zip(a,b)\n",
       "Base.Iterators.Zip{Tuple{UnitRange{Int64},Array{String,1}}}((1:5, [\"e\", \"d\", \"b\", \"c\", \"a\"]))\n",
       "\n",
       "julia> length(c)\n",
       "5\n",
       "\n",
       "julia> first(c)\n",
       "(1, \"e\")\n",
       "```\n"
      ],
      "text/plain": [
       "\u001b[36m  zip(iters...)\u001b[39m\n",
       "\n",
       "  Run multiple iterators at the same time, until any of them is\n",
       "  exhausted. The value type of the \u001b[36mzip\u001b[39m iterator is a tuple of values\n",
       "  of its subiterators.\n",
       "\n",
       "  Note: \u001b[36mzip\u001b[39m orders the calls to its subiterators in such a way that\n",
       "  stateful iterators will not advance when another iterator finishes\n",
       "  in the current iteration.\n",
       "\n",
       "\u001b[1m  Examples\u001b[22m\n",
       "\u001b[1m  ≡≡≡≡≡≡≡≡≡≡\u001b[22m\n",
       "\n",
       "\u001b[36m  julia> a = 1:5\u001b[39m\n",
       "\u001b[36m  1:5\u001b[39m\n",
       "\u001b[36m  \u001b[39m\n",
       "\u001b[36m  julia> b = [\"e\",\"d\",\"b\",\"c\",\"a\"]\u001b[39m\n",
       "\u001b[36m  5-element Array{String,1}:\u001b[39m\n",
       "\u001b[36m   \"e\"\u001b[39m\n",
       "\u001b[36m   \"d\"\u001b[39m\n",
       "\u001b[36m   \"b\"\u001b[39m\n",
       "\u001b[36m   \"c\"\u001b[39m\n",
       "\u001b[36m   \"a\"\u001b[39m\n",
       "\u001b[36m  \u001b[39m\n",
       "\u001b[36m  julia> c = zip(a,b)\u001b[39m\n",
       "\u001b[36m  Base.Iterators.Zip{Tuple{UnitRange{Int64},Array{String,1}}}((1:5, [\"e\", \"d\", \"b\", \"c\", \"a\"]))\u001b[39m\n",
       "\u001b[36m  \u001b[39m\n",
       "\u001b[36m  julia> length(c)\u001b[39m\n",
       "\u001b[36m  5\u001b[39m\n",
       "\u001b[36m  \u001b[39m\n",
       "\u001b[36m  julia> first(c)\u001b[39m\n",
       "\u001b[36m  (1, \"e\")\u001b[39m"
      ]
     },
     "execution_count": 16,
     "metadata": {},
     "output_type": "execute_result"
    }
   ],
   "source": [
    "@doc zip"
   ]
  },
  {
   "cell_type": "code",
   "execution_count": 17,
   "metadata": {
    "scrolled": false
   },
   "outputs": [
    {
     "data": {
      "text/plain": [
       "Base.Iterators.Zip{Tuple{Base.Generator{Array{Any,1},getfield(Main, Symbol(\"##10#11\"))},Array{Any,1}}}((Base.Generator{Array{Any,1},getfield(Main, Symbol(\"##10#11\"))}(getfield(Main, Symbol(\"##10#11\"))(), Any[Any[\"Al\", \"-\", \"Zaman\", \":\", \"American\", \"forces\", \"killed\", \"Shaikh\", \"Abdullah\", \"al\"  …  \"the\", \"town\", \"of\", \"Qaim\", \",\", \"near\", \"the\", \"Syrian\", \"border\", \".\"], Any[\"[\", \"This\", \"killing\", \"of\", \"a\", \"respected\", \"cleric\", \"will\", \"be\", \"causing\", \"us\", \"trouble\", \"for\", \"years\", \"to\", \"come\", \".\", \"]\"], Any[\"DPA\", \":\", \"Iraqi\", \"authorities\", \"announced\", \"that\", \"they\", \"had\", \"busted\", \"up\", \"3\", \"terrorist\", \"cells\", \"operating\", \"in\", \"Baghdad\", \".\"], Any[\"Two\", \"of\", \"them\", \"were\", \"being\", \"run\", \"by\", \"2\", \"officials\", \"of\", \"the\", \"Ministry\", \"of\", \"the\", \"Interior\", \"!\"], Any[\"The\", \"MoI\", \"in\", \"Iraq\", \"is\", \"equivalent\", \"to\", \"the\", \"US\", \"FBI\"  …  \"members\", \"of\", \"the\", \"Weathermen\", \"bombers\", \"back\", \"in\", \"the\", \"1960s\", \".\"], Any[\"The\", \"third\", \"was\", \"being\", \"run\", \"by\", \"the\", \"head\", \"of\", \"an\", \"investment\", \"firm\", \".\"], Any[\"You\", \"wonder\", \"if\", \"he\", \"was\", \"manipulating\", \"the\", \"market\", \"with\", \"his\", \"bombing\", \"targets\", \".\"], Any[\"The\", \"cells\", \"were\", \"operating\", \"in\", \"the\", \"Ghazaliyah\", \"and\", \"al\", \"-\", \"Jihad\", \"districts\", \"of\", \"the\", \"capital\", \".\"], Any[\"Although\", \"the\", \"announcement\", \"was\", \"probably\", \"made\", \"to\", \"show\", \"progress\", \"in\"  …  \"Baathists\", \"continue\", \"to\", \"penetrate\", \"the\", \"Iraqi\", \"government\", \"very\", \"hopeful\", \".\"], Any[\"It\", \"reminds\", \"me\", \"too\", \"much\", \"of\", \"the\", \"ARVN\", \"officers\", \"who\", \"were\", \"secretly\", \"working\", \"for\", \"the\", \"other\", \"side\", \"in\", \"Vietnam\", \".\"]  …  Any[\"Over\", \"two\", \"hours\", \"later\", \"(\", \"and\", \"ten\", \"minutes\", \"before\", \"they\", \"closed\", \")\", \"my\", \"car\", \"was\", \"finally\", \"finished\", \".\"], Any[\"A\", \"few\", \"minutes\", \"after\", \"I\", \"left\", \",\", \"I\", \"was\", \"called\"  …  \"which\", \"they\", \"should\", \"have\", \"left\", \"in\", \"the\", \"car\", \")\", \".\"], Any[\"Of\", \"course\", \",\", \"they\", \"would\", \"be\", \"closing\", \"in\", \"5\", \"minutes\"  …  \"to\", \"hurry\", \"up\", \"or\", \"get\", \"it\", \"the\", \"next\", \"day\", \".\"], Any[\"Of\", \"course\", \"I\", \"could\", \"n't\", \"make\", \"it\", \"back\", \"in\", \"time\"  …  \"stay\", \"5\", \"extra\", \"minutes\", \"to\", \"wait\", \"for\", \"me\", \")\", \".\"], Any[\"The\", \"next\", \"day\", \",\", \"no\", \"one\", \"could\", \"find\", \"my\", \"wheel\", \"lock\", \"and\", \"that\", \"particular\", \"technician\", \"was\", \"not\", \"in\", \".\"], Any[\"Of\", \"course\", \",\", \"they\", \"could\", \"n't\", \"call\", \"him\", \"either\", \"to\"  …  \"no\", \"wheel\", \"lock\", \"should\", \"I\", \"get\", \"a\", \"flat\", \")\", \".\"], Any[\"On\", \"Monday\", \"I\", \"called\", \"and\", \"again\", \"it\", \"was\", \"a\", \"big\"  …  \"do\", \"to\", \"find\", \"anyone\", \"who\", \"knew\", \"anything\", \"about\", \"it\", \".\"], Any[\"Supposedly\", \"they\", \"will\", \"be\", \"holding\", \"it\", \"for\", \"me\", \"this\", \"evening\"  …  \"'m\", \"sure\", \"that\", \"will\", \"also\", \"be\", \"a\", \"huge\", \"ordeal\", \".\"], Any[\"The\", \"employees\", \"at\", \"this\", \"Sear's\", \"are\", \"completely\", \"apathetic\", \"and\", \"there\"  …  \"be\", \"any\", \"sort\", \"of\", \"management\", \"that\", \"I\", \"could\", \"see\", \".\"], Any[\"I\", \"will\", \"never\", \"return\", \"there\", \"again\", \"(\", \"and\", \"now\", \"have\"  …  \"of\", \"work\", \"they\", \"actually\", \"performed\", \"on\", \"my\", \"car\", \")\", \".\"]]), Any[Any[0, 1, 1, 1, 6, 7, 1, 7, 8, 8  …  21, 18, 23, 21, 21, 28, 28, 28, 21, 1], Any[10, 3, 10, 7, 7, 7, 3, 10, 10, 0, 10, 10, 14, 10, 16, 14, 10, 10], Any[0, 1, 4, 5, 1, 9, 9, 9, 5, 9, 13, 13, 9, 13, 16, 14, 1], Any[6, 3, 1, 6, 6, 0, 9, 9, 6, 12, 12, 9, 15, 15, 12, 6], Any[2, 6, 4, 2, 6, 0, 10, 10, 10, 6  …  22, 31, 31, 31, 27, 35, 35, 35, 22, 6], Any[2, 5, 5, 5, 0, 8, 8, 5, 12, 12, 12, 8, 5], Any[2, 0, 6, 6, 6, 2, 8, 6, 12, 12, 12, 6, 2], Any[2, 4, 4, 0, 12, 12, 12, 11, 11, 11, 7, 4, 15, 15, 12, 4], Any[6, 3, 6, 6, 6, 21, 8, 6, 8, 11  …  27, 23, 29, 27, 32, 32, 29, 34, 21, 21], Any[2, 0, 2, 5, 2, 9, 9, 9, 2, 13, 13, 13, 9, 17, 17, 17, 13, 19, 13, 2]  …  Any[2, 3, 4, 17, 4, 11, 8, 9, 11, 11, 4, 4, 14, 17, 17, 17, 0, 17], Any[3, 3, 6, 6, 6, 10, 10, 10, 10, 0  …  26, 26, 26, 26, 20, 29, 29, 26, 26, 10], Any[7, 1, 7, 7, 7, 7, 0, 10, 10, 7  …  17, 15, 17, 20, 17, 20, 24, 24, 20, 7], Any[6, 1, 6, 6, 6, 0, 6, 6, 10, 6  …  6, 20, 20, 17, 22, 17, 24, 22, 6, 6], Any[3, 3, 8, 8, 6, 8, 8, 0, 11, 11, 8, 18, 15, 15, 18, 18, 18, 8, 8], Any[7, 1, 7, 7, 7, 7, 0, 7, 7, 11  …  46, 46, 38, 49, 49, 38, 51, 49, 38, 7], Any[2, 4, 4, 0, 13, 13, 13, 13, 13, 13  …  4, 15, 13, 15, 18, 16, 18, 21, 19, 4], Any[5, 5, 5, 5, 0, 5, 8, 5, 10, 5  …  15, 5, 22, 22, 22, 22, 22, 22, 15, 5], Any[2, 8, 5, 5, 2, 8, 8, 0, 13, 13  …  13, 17, 15, 19, 17, 23, 23, 23, 19, 8], Any[4, 4, 4, 0, 4, 4, 4, 10, 10, 4  …  18, 16, 21, 21, 18, 24, 24, 21, 4, 4]]))"
      ]
     },
     "execution_count": 17,
     "metadata": {},
     "output_type": "execute_result"
    }
   ],
   "source": [
    "data22 = zip((reshape(x,1,1,length(x)) for x in data2[1]),data2[2])"
   ]
  },
  {
   "cell_type": "code",
   "execution_count": 18,
   "metadata": {},
   "outputs": [
    {
     "ename": "LoadError",
     "evalue": "syntax: incomplete: premature end of input",
     "output_type": "error",
     "traceback": [
      "syntax: incomplete: premature end of input",
      ""
     ]
    }
   ],
   "source": [
    "rdat1["
   ]
  },
  {
   "cell_type": "code",
   "execution_count": 19,
   "metadata": {},
   "outputs": [
    {
     "data": {
      "text/plain": [
       "12543-element Array{Tuple{Array{Any,3},Array{Any,1}},1}:\n",
       " ([\"Al\"]\n",
       "\n",
       "[\"-\"]\n",
       "\n",
       "[\"Zaman\"]\n",
       "\n",
       "...\n",
       "\n",
       "[\"Syrian\"]\n",
       "\n",
       "[\"border\"]\n",
       "\n",
       "[\".\"], [0, 1, 1, 1, 6, 7, 1, 7, 8, 8  …  21, 18, 23, 21, 21, 28, 28, 28, 21, 1])                 \n",
       " ([\"[\"]\n",
       "\n",
       "[\"This\"]\n",
       "\n",
       "[\"killing\"]\n",
       "\n",
       "...\n",
       "\n",
       "[\"come\"]\n",
       "\n",
       "[\".\"]\n",
       "\n",
       "[\"]\"], [10, 3, 10, 7, 7, 7, 3, 10, 10, 0, 10, 10, 14, 10, 16, 14, 10, 10])                          \n",
       " ([\"DPA\"]\n",
       "\n",
       "[\":\"]\n",
       "\n",
       "[\"Iraqi\"]\n",
       "\n",
       "...\n",
       "\n",
       "[\"in\"]\n",
       "\n",
       "[\"Baghdad\"]\n",
       "\n",
       "[\".\"], [0, 1, 4, 5, 1, 9, 9, 9, 5, 9, 13, 13, 9, 13, 16, 14, 1])                                   \n",
       " ([\"Two\"]\n",
       "\n",
       "[\"of\"]\n",
       "\n",
       "[\"them\"]\n",
       "\n",
       "...\n",
       "\n",
       "[\"the\"]\n",
       "\n",
       "[\"Interior\"]\n",
       "\n",
       "[\"!\"], [6, 3, 1, 6, 6, 0, 9, 9, 6, 12, 12, 9, 15, 15, 12, 6])                                    \n",
       " ([\"The\"]\n",
       "\n",
       "[\"MoI\"]\n",
       "\n",
       "[\"in\"]\n",
       "\n",
       "...\n",
       "\n",
       "[\"the\"]\n",
       "\n",
       "[\"1960s\"]\n",
       "\n",
       "[\".\"], [2, 6, 4, 2, 6, 0, 10, 10, 10, 6  …  22, 31, 31, 31, 27, 35, 35, 35, 22, 6])                  \n",
       " ([\"The\"]\n",
       "\n",
       "[\"third\"]\n",
       "\n",
       "[\"was\"]\n",
       "\n",
       "...\n",
       "\n",
       "[\"investment\"]\n",
       "\n",
       "[\"firm\"]\n",
       "\n",
       "[\".\"], [2, 5, 5, 5, 0, 8, 8, 5, 12, 12, 12, 8, 5])                                          \n",
       " ([\"You\"]\n",
       "\n",
       "[\"wonder\"]\n",
       "\n",
       "[\"if\"]\n",
       "\n",
       "...\n",
       "\n",
       "[\"bombing\"]\n",
       "\n",
       "[\"targets\"]\n",
       "\n",
       "[\".\"], [2, 0, 6, 6, 6, 2, 8, 6, 12, 12, 12, 6, 2])                                          \n",
       " ([\"The\"]\n",
       "\n",
       "[\"cells\"]\n",
       "\n",
       "[\"were\"]\n",
       "\n",
       "...\n",
       "\n",
       "[\"the\"]\n",
       "\n",
       "[\"capital\"]\n",
       "\n",
       "[\".\"], [2, 4, 4, 0, 12, 12, 12, 11, 11, 11, 7, 4, 15, 15, 12, 4])                              \n",
       " ([\"Although\"]\n",
       "\n",
       "[\"the\"]\n",
       "\n",
       "[\"announcement\"]\n",
       "\n",
       "...\n",
       "\n",
       "[\"very\"]\n",
       "\n",
       "[\"hopeful\"]\n",
       "\n",
       "[\".\"], [6, 3, 6, 6, 6, 21, 8, 6, 8, 11  …  27, 23, 29, 27, 32, 32, 29, 34, 21, 21])\n",
       " ([\"It\"]\n",
       "\n",
       "[\"reminds\"]\n",
       "\n",
       "[\"me\"]\n",
       "\n",
       "...\n",
       "\n",
       "[\"in\"]\n",
       "\n",
       "[\"Vietnam\"]\n",
       "\n",
       "[\".\"], [2, 0, 2, 5, 2, 9, 9, 9, 2, 13, 13, 13, 9, 17, 17, 17, 13, 19, 13, 2])                    \n",
       " ([\"Al\"]\n",
       "\n",
       "[\"-\"]\n",
       "\n",
       "[\"Zaman\"]\n",
       "\n",
       "...\n",
       "\n",
       "[\"in\"]\n",
       "\n",
       "[\"Mosul\"]\n",
       "\n",
       "[\".\"], [0, 1, 1, 1, 6, 1, 8, 6, 13, 13, 13, 13, 8, 15, 6, 15, 18, 15, 1])                             \n",
       " ([\"The\"]\n",
       "\n",
       "[\"police\"]\n",
       "\n",
       "[\"commander\"]\n",
       "\n",
       "...\n",
       "\n",
       "[\"of\"]\n",
       "\n",
       "[\"kidnappings\"]\n",
       "\n",
       "[\".\"], [3, 3, 7, 6, 6, 3, 0, 11, 11, 11  …  11, 23, 23, 20, 26, 26, 23, 28, 26, 7])   \n",
       " ([\"On\"]\n",
       "\n",
       "[\"Wednesday\"]\n",
       "\n",
       "[\"guerrillas\"]\n",
       "\n",
       "...\n",
       "\n",
       "[\"way\"]\n",
       "\n",
       "[\"home\"]\n",
       "\n",
       "[\".\"], [2, 5, 5, 5, 0, 8, 8, 5, 11, 11, 8, 17, 17, 17, 17, 17, 5, 17, 5])                \n",
       " ⋮                                                                                                                                                        \n",
       " ([\"So\"]\n",
       "\n",
       "[\"I\"]\n",
       "\n",
       "[\"got\"]\n",
       "\n",
       "[\"just\"]\n",
       "\n",
       "[\"my\"]\n",
       "\n",
       "[\"other\"]\n",
       "\n",
       "[\"rear\"]\n",
       "\n",
       "[\"tire\"]\n",
       "\n",
       "[\"replaced\"]\n",
       "\n",
       "[\".\"], [3, 3, 0, 3, 8, 8, 8, 3, 3, 3])                           \n",
       " ([\"They\"]\n",
       "\n",
       "[\"promised\"]\n",
       "\n",
       "[\"it\"]\n",
       "\n",
       "...\n",
       "\n",
       "[\"the\"]\n",
       "\n",
       "[\"lobby\"]\n",
       "\n",
       "[\".\"], [2, 0, 6, 6, 6, 2, 9, 9, 6, 2, 13, 13, 2, 16, 16, 13, 2])                               \n",
       " ([\"Over\"]\n",
       "\n",
       "[\"two\"]\n",
       "\n",
       "[\"hours\"]\n",
       "\n",
       "...\n",
       "\n",
       "[\"finally\"]\n",
       "\n",
       "[\"finished\"]\n",
       "\n",
       "[\".\"], [2, 3, 4, 17, 4, 11, 8, 9, 11, 11, 4, 4, 14, 17, 17, 17, 0, 17])                   \n",
       " ([\"A\"]\n",
       "\n",
       "[\"few\"]\n",
       "\n",
       "[\"minutes\"]\n",
       "\n",
       "...\n",
       "\n",
       "[\"car\"]\n",
       "\n",
       "[\")\"]\n",
       "\n",
       "[\".\"], [3, 3, 6, 6, 6, 10, 10, 10, 10, 0  …  26, 26, 26, 26, 20, 29, 29, 26, 26, 10])                 \n",
       " ([\"Of\"]\n",
       "\n",
       "[\"course\"]\n",
       "\n",
       "[\",\"]\n",
       "\n",
       "...\n",
       "\n",
       "[\"next\"]\n",
       "\n",
       "[\"day\"]\n",
       "\n",
       "[\".\"], [7, 1, 7, 7, 7, 7, 0, 10, 10, 7  …  17, 15, 17, 20, 17, 20, 24, 24, 20, 7])                   \n",
       " ([\"Of\"]\n",
       "\n",
       "[\"course\"]\n",
       "\n",
       "[\"I\"]\n",
       "\n",
       "...\n",
       "\n",
       "[\"me\"]\n",
       "\n",
       "[\")\"]\n",
       "\n",
       "[\".\"], [6, 1, 6, 6, 6, 0, 6, 6, 10, 6  …  6, 20, 20, 17, 22, 17, 24, 22, 6, 6])                          \n",
       " ([\"The\"]\n",
       "\n",
       "[\"next\"]\n",
       "\n",
       "[\"day\"]\n",
       "\n",
       "...\n",
       "\n",
       "[\"not\"]\n",
       "\n",
       "[\"in\"]\n",
       "\n",
       "[\".\"], [3, 3, 8, 8, 6, 8, 8, 0, 11, 11, 8, 18, 15, 15, 18, 18, 18, 8, 8])                             \n",
       " ([\"Of\"]\n",
       "\n",
       "[\"course\"]\n",
       "\n",
       "[\",\"]\n",
       "\n",
       "...\n",
       "\n",
       "[\"flat\"]\n",
       "\n",
       "[\")\"]\n",
       "\n",
       "[\".\"], [7, 1, 7, 7, 7, 7, 0, 7, 7, 11  …  46, 46, 38, 49, 49, 38, 51, 49, 38, 7])                      \n",
       " ([\"On\"]\n",
       "\n",
       "[\"Monday\"]\n",
       "\n",
       "[\"I\"]\n",
       "\n",
       "...\n",
       "\n",
       "[\"about\"]\n",
       "\n",
       "[\"it\"]\n",
       "\n",
       "[\".\"], [2, 4, 4, 0, 13, 13, 13, 13, 13, 13  …  4, 15, 13, 15, 18, 16, 18, 21, 19, 4])                \n",
       " ([\"Supposedly\"]\n",
       "\n",
       "[\"they\"]\n",
       "\n",
       "[\"will\"]\n",
       "\n",
       "...\n",
       "\n",
       "[\"huge\"]\n",
       "\n",
       "[\"ordeal\"]\n",
       "\n",
       "[\".\"], [5, 5, 5, 5, 0, 5, 8, 5, 10, 5  …  15, 5, 22, 22, 22, 22, 22, 22, 15, 5])         \n",
       " ([\"The\"]\n",
       "\n",
       "[\"employees\"]\n",
       "\n",
       "[\"at\"]\n",
       "\n",
       "...\n",
       "\n",
       "[\"could\"]\n",
       "\n",
       "[\"see\"]\n",
       "\n",
       "[\".\"], [2, 8, 5, 5, 2, 8, 8, 0, 13, 13  …  13, 17, 15, 19, 17, 23, 23, 23, 19, 8])             \n",
       " ([\"I\"]\n",
       "\n",
       "[\"will\"]\n",
       "\n",
       "[\"never\"]\n",
       "\n",
       "...\n",
       "\n",
       "[\"car\"]\n",
       "\n",
       "[\")\"]\n",
       "\n",
       "[\".\"], [4, 4, 4, 0, 4, 4, 4, 10, 10, 4  …  18, 16, 21, 21, 18, 24, 24, 21, 4, 4])                      "
      ]
     },
     "execution_count": 19,
     "metadata": {},
     "output_type": "execute_result"
    }
   ],
   "source": [
    "data22c = collect(data22)"
   ]
  },
  {
   "cell_type": "code",
   "execution_count": 20,
   "metadata": {},
   "outputs": [
    {
     "data": {
      "text/plain": [
       "Base.Generator{Base.Iterators.Zip{Tuple{Base.Generator{Array{Any,1},getfield(Main, Symbol(\"##10#11\"))},Array{Any,1}}},getfield(Main, Symbol(\"##12#13\"))}(getfield(Main, Symbol(\"##12#13\"))(), Base.Iterators.Zip{Tuple{Base.Generator{Array{Any,1},getfield(Main, Symbol(\"##10#11\"))},Array{Any,1}}}((Base.Generator{Array{Any,1},getfield(Main, Symbol(\"##10#11\"))}(getfield(Main, Symbol(\"##10#11\"))(), Any[Any[\"Al\", \"-\", \"Zaman\", \":\", \"American\", \"forces\", \"killed\", \"Shaikh\", \"Abdullah\", \"al\"  …  \"the\", \"town\", \"of\", \"Qaim\", \",\", \"near\", \"the\", \"Syrian\", \"border\", \".\"], Any[\"[\", \"This\", \"killing\", \"of\", \"a\", \"respected\", \"cleric\", \"will\", \"be\", \"causing\", \"us\", \"trouble\", \"for\", \"years\", \"to\", \"come\", \".\", \"]\"], Any[\"DPA\", \":\", \"Iraqi\", \"authorities\", \"announced\", \"that\", \"they\", \"had\", \"busted\", \"up\", \"3\", \"terrorist\", \"cells\", \"operating\", \"in\", \"Baghdad\", \".\"], Any[\"Two\", \"of\", \"them\", \"were\", \"being\", \"run\", \"by\", \"2\", \"officials\", \"of\", \"the\", \"Ministry\", \"of\", \"the\", \"Interior\", \"!\"], Any[\"The\", \"MoI\", \"in\", \"Iraq\", \"is\", \"equivalent\", \"to\", \"the\", \"US\", \"FBI\"  …  \"members\", \"of\", \"the\", \"Weathermen\", \"bombers\", \"back\", \"in\", \"the\", \"1960s\", \".\"], Any[\"The\", \"third\", \"was\", \"being\", \"run\", \"by\", \"the\", \"head\", \"of\", \"an\", \"investment\", \"firm\", \".\"], Any[\"You\", \"wonder\", \"if\", \"he\", \"was\", \"manipulating\", \"the\", \"market\", \"with\", \"his\", \"bombing\", \"targets\", \".\"], Any[\"The\", \"cells\", \"were\", \"operating\", \"in\", \"the\", \"Ghazaliyah\", \"and\", \"al\", \"-\", \"Jihad\", \"districts\", \"of\", \"the\", \"capital\", \".\"], Any[\"Although\", \"the\", \"announcement\", \"was\", \"probably\", \"made\", \"to\", \"show\", \"progress\", \"in\"  …  \"Baathists\", \"continue\", \"to\", \"penetrate\", \"the\", \"Iraqi\", \"government\", \"very\", \"hopeful\", \".\"], Any[\"It\", \"reminds\", \"me\", \"too\", \"much\", \"of\", \"the\", \"ARVN\", \"officers\", \"who\", \"were\", \"secretly\", \"working\", \"for\", \"the\", \"other\", \"side\", \"in\", \"Vietnam\", \".\"]  …  Any[\"Over\", \"two\", \"hours\", \"later\", \"(\", \"and\", \"ten\", \"minutes\", \"before\", \"they\", \"closed\", \")\", \"my\", \"car\", \"was\", \"finally\", \"finished\", \".\"], Any[\"A\", \"few\", \"minutes\", \"after\", \"I\", \"left\", \",\", \"I\", \"was\", \"called\"  …  \"which\", \"they\", \"should\", \"have\", \"left\", \"in\", \"the\", \"car\", \")\", \".\"], Any[\"Of\", \"course\", \",\", \"they\", \"would\", \"be\", \"closing\", \"in\", \"5\", \"minutes\"  …  \"to\", \"hurry\", \"up\", \"or\", \"get\", \"it\", \"the\", \"next\", \"day\", \".\"], Any[\"Of\", \"course\", \"I\", \"could\", \"n't\", \"make\", \"it\", \"back\", \"in\", \"time\"  …  \"stay\", \"5\", \"extra\", \"minutes\", \"to\", \"wait\", \"for\", \"me\", \")\", \".\"], Any[\"The\", \"next\", \"day\", \",\", \"no\", \"one\", \"could\", \"find\", \"my\", \"wheel\", \"lock\", \"and\", \"that\", \"particular\", \"technician\", \"was\", \"not\", \"in\", \".\"], Any[\"Of\", \"course\", \",\", \"they\", \"could\", \"n't\", \"call\", \"him\", \"either\", \"to\"  …  \"no\", \"wheel\", \"lock\", \"should\", \"I\", \"get\", \"a\", \"flat\", \")\", \".\"], Any[\"On\", \"Monday\", \"I\", \"called\", \"and\", \"again\", \"it\", \"was\", \"a\", \"big\"  …  \"do\", \"to\", \"find\", \"anyone\", \"who\", \"knew\", \"anything\", \"about\", \"it\", \".\"], Any[\"Supposedly\", \"they\", \"will\", \"be\", \"holding\", \"it\", \"for\", \"me\", \"this\", \"evening\"  …  \"'m\", \"sure\", \"that\", \"will\", \"also\", \"be\", \"a\", \"huge\", \"ordeal\", \".\"], Any[\"The\", \"employees\", \"at\", \"this\", \"Sear's\", \"are\", \"completely\", \"apathetic\", \"and\", \"there\"  …  \"be\", \"any\", \"sort\", \"of\", \"management\", \"that\", \"I\", \"could\", \"see\", \".\"], Any[\"I\", \"will\", \"never\", \"return\", \"there\", \"again\", \"(\", \"and\", \"now\", \"have\"  …  \"of\", \"work\", \"they\", \"actually\", \"performed\", \"on\", \"my\", \"car\", \")\", \".\"]]), Any[Any[0, 1, 1, 1, 6, 7, 1, 7, 8, 8  …  21, 18, 23, 21, 21, 28, 28, 28, 21, 1], Any[10, 3, 10, 7, 7, 7, 3, 10, 10, 0, 10, 10, 14, 10, 16, 14, 10, 10], Any[0, 1, 4, 5, 1, 9, 9, 9, 5, 9, 13, 13, 9, 13, 16, 14, 1], Any[6, 3, 1, 6, 6, 0, 9, 9, 6, 12, 12, 9, 15, 15, 12, 6], Any[2, 6, 4, 2, 6, 0, 10, 10, 10, 6  …  22, 31, 31, 31, 27, 35, 35, 35, 22, 6], Any[2, 5, 5, 5, 0, 8, 8, 5, 12, 12, 12, 8, 5], Any[2, 0, 6, 6, 6, 2, 8, 6, 12, 12, 12, 6, 2], Any[2, 4, 4, 0, 12, 12, 12, 11, 11, 11, 7, 4, 15, 15, 12, 4], Any[6, 3, 6, 6, 6, 21, 8, 6, 8, 11  …  27, 23, 29, 27, 32, 32, 29, 34, 21, 21], Any[2, 0, 2, 5, 2, 9, 9, 9, 2, 13, 13, 13, 9, 17, 17, 17, 13, 19, 13, 2]  …  Any[2, 3, 4, 17, 4, 11, 8, 9, 11, 11, 4, 4, 14, 17, 17, 17, 0, 17], Any[3, 3, 6, 6, 6, 10, 10, 10, 10, 0  …  26, 26, 26, 26, 20, 29, 29, 26, 26, 10], Any[7, 1, 7, 7, 7, 7, 0, 10, 10, 7  …  17, 15, 17, 20, 17, 20, 24, 24, 20, 7], Any[6, 1, 6, 6, 6, 0, 6, 6, 10, 6  …  6, 20, 20, 17, 22, 17, 24, 22, 6, 6], Any[3, 3, 8, 8, 6, 8, 8, 0, 11, 11, 8, 18, 15, 15, 18, 18, 18, 8, 8], Any[7, 1, 7, 7, 7, 7, 0, 7, 7, 11  …  46, 46, 38, 49, 49, 38, 51, 49, 38, 7], Any[2, 4, 4, 0, 13, 13, 13, 13, 13, 13  …  4, 15, 13, 15, 18, 16, 18, 21, 19, 4], Any[5, 5, 5, 5, 0, 5, 8, 5, 10, 5  …  15, 5, 22, 22, 22, 22, 22, 22, 15, 5], Any[2, 8, 5, 5, 2, 8, 8, 0, 13, 13  …  13, 17, 15, 19, 17, 23, 23, 23, 19, 8], Any[4, 4, 4, 0, 4, 4, 4, 10, 10, 4  …  18, 16, 21, 21, 18, 24, 24, 21, 4, 4]])))"
      ]
     },
     "execution_count": 20,
     "metadata": {},
     "output_type": "execute_result"
    }
   ],
   "source": [
    "data4 = ((reshape(cat(rootind,map(getind,x), dims=3),1,length(x)+1),y) for (x,y) in data22)"
   ]
  },
  {
   "cell_type": "code",
   "execution_count": 21,
   "metadata": {},
   "outputs": [
    {
     "data": {
      "text/plain": [
       "(Dict{Any,Any}(\"newdigate\"=>164100,\"daufuskie\"=>254784,\"single-arm\"=>192007,\"titration\"=>117879,\"qajar\"=>66399,\"pinheiro\"=>38763,\"hospitalet\"=>282158,\"kennedale\"=>223560,\"tetracyclic\"=>353804,\"moher\"=>167242…), Any[Float32[0.418, 0.24968, -0.41242, 0.1217, 0.34527, -0.044457, -0.49688, -0.17862, -0.00066023, -0.6566  …  -0.29871, -0.15749, -0.34758, -0.045637, -0.44251, 0.18785, 0.0027849, -0.18411, -0.11514, -0.78581], Float32[0.013441, 0.23682, -0.16899, 0.40951, 0.63812, 0.47709, -0.42852, -0.55641, -0.364, -0.23938  …  -0.080262, 0.63003, 0.32111, -0.46765, 0.22786, 0.36034, -0.37818, -0.56657, 0.044691, 0.30392], Float32[0.15164, 0.30177, -0.16763, 0.17684, 0.31719, 0.33973, -0.43478, -0.31086, -0.44999, -0.29486  …  -6.3681e-5, 0.068987, 0.087939, -0.10285, -0.13931, 0.22314, -0.080803, -0.35652, 0.016413, 0.10216], Float32[0.70853, 0.57088, -0.4716, 0.18048, 0.54449, 0.72603, 0.18157, -0.52393, 0.10381, -0.17566  …  -0.34727, 0.28483, 0.075693, -0.062178, -0.38988, 0.22902, -0.21617, -0.22562, -0.093918, -0.80375], Float32[0.68047, -0.039263, 0.30186, -0.17792, 0.42962, 0.032246, -0.41376, 0.13228, -0.29847, -0.085253  …  -0.094375, 0.018324, 0.21048, -0.03088, -0.19722, 0.082279, -0.09434, -0.073297, -0.064699, -0.26044], Float32[0.26818, 0.14346, -0.27877, 0.016257, 0.11384, 0.69923, -0.51332, -0.47368, -0.33075, -0.13834  …  -0.069043, 0.36885, 0.25168, -0.24517, 0.25381, 0.1367, -0.31178, -0.6321, -0.25028, -0.38097], Float32[0.33042, 0.24995, -0.60874, 0.10923, 0.036372, 0.151, -0.55083, -0.074239, -0.092307, -0.32821  …  -0.48609, -0.0080272, 0.031184, -0.36576, -0.42699, 0.42164, -0.11666, -0.50703, -0.027273, -0.53285], Float32[0.21705, 0.46515, -0.46757, 0.10082, 1.0135, 0.74845, -0.53104, -0.26256, 0.16812, 0.13182  …  0.13813, 0.36973, -0.64289, 0.024142, -0.039315, -0.26037, 0.12017, -0.043782, 0.41013, 0.1796], Float32[0.25769, 0.45629, -0.76974, -0.37679, 0.59272, -0.063527, 0.20545, -0.57385, -0.29009, -0.13662  …  0.030498, -0.39543, -0.38515, -1.0002, 0.087599, -0.31009, -0.34677, -0.31438, 0.75004, 0.97065], Float32[0.23727, 0.40478, -0.20547, 0.58805, 0.65533, 0.32867, -0.81964, -0.23236, 0.27428, 0.24265  …  -0.12342, 0.65961, -0.51802, -0.82995, -0.082739, 0.28155, -0.423, -0.27378, -0.007901, -0.030231]  …  Float32[-0.74397, 0.082164, -0.0091471, 0.4129, -0.42255, 0.10125, -0.18602, 0.21051, -0.59037, 0.66988  …  0.53364, -0.93231, -0.39097, 0.60638, 0.42173, 0.1062, -0.14878, -0.11773, -0.097637, 0.093382], Float32[-0.30016, -0.80268, -0.46637, -0.29822, -1.032, -1.0705, 0.84562, 0.70225, 0.11996, -0.7183  …  0.35178, 0.14789, -0.015559, 0.16185, 0.5095, -0.60983, 1.2486, 0.33713, -0.22136, -0.39756], Float32[-1.1167, 0.14057, 0.36302, -0.13836, -1.4797, -0.98573, 0.40487, -0.39773, -0.40102, 0.34691  …  0.30189, 0.048314, -0.079109, 0.58375, 0.14685, -0.46245, 0.44275, 0.21229, 0.16195, -0.78756], Float32[-0.24171, -0.23367, 0.10672, -1.6023, 0.1244, -0.016423, 0.1302, 0.70318, -0.14301, 0.47307  …  0.77956, -0.072954, 0.16443, -0.0061933, 0.061141, -0.28784, 0.58601, 0.47279, -0.61084, -0.72091], Float32[-0.042672, -0.088106, -0.31724, -0.25209, -0.26851, -0.06615, 0.90325, -0.13818, 0.3186, 0.30621  …  -0.38187, -0.91153, 0.11853, -0.13034, 0.48774, -0.99745, -0.069557, 0.24963, 0.75791, 0.50679], Float32[0.23204, 0.025672, -0.70699, -0.045465, 0.13989, -0.62807, 0.72625, 0.34108, 0.44614, 0.16329  …  -0.095526, -0.29605, 0.38567, 0.13684, 0.59331, -0.69486, 0.1241, -0.18069, -0.2583, -0.039673], Float32[-0.60921, -0.67218, 0.23521, -0.11195, -0.46094, -0.0074616, 0.25578, 0.85632, 0.055977, -0.23792  …  0.67205, -0.59822, -0.20259, 0.39243, 0.028873, 0.030003, -0.10617, -0.11411, -0.24901, -0.12026], Float32[-0.51181, 0.058706, 1.0913, -0.55163, -0.10249, -0.1265, 0.99503, 0.079711, -0.16246, 0.56488  …  0.024747, 0.20092, -1.0851, -0.13626, 0.35052, -0.85891, 0.067858, -0.25003, -1.125, 1.5863], Float32[-0.75898, -0.47426, 0.4737, 0.7725, -0.78064, 0.23233, 0.046114, 0.84014, 0.24371, 0.022978  …  0.45439, -0.84254, 0.1065, -0.059397, 0.090449, 0.30581, -0.61424, 0.78954, -0.014116, 0.6448], Float32[0.072617, -0.51393, 0.4728, -0.52202, -0.35534, 0.34629, 0.23211, 0.23096, 0.26694, 0.41028  …  0.6888, -0.17986, -0.066569, -0.48044, -0.55946, -0.27594, 0.056072, -0.18907, -0.59021, 0.55559]])"
      ]
     },
     "execution_count": 21,
     "metadata": {},
     "output_type": "execute_result"
    }
   ],
   "source": [
    "wembed, wembedind = load_embed(\"glove.6B.50d.txt\")"
   ]
  },
  {
   "cell_type": "code",
   "execution_count": 22,
   "metadata": {
    "scrolled": true
   },
   "outputs": [
    {
     "data": {
      "text/plain": [
       " \u001b[1m──────────────────────────────────────────────────────────────────\u001b[22m\n",
       " \u001b[1m                  \u001b[22m        Time                   Allocations      \n",
       "                   ──────────────────────   ───────────────────────\n",
       " Tot / % measured:      929ms / 0.00%            133MiB / 0.00%    \n",
       "\n",
       " Section   ncalls     time   %tot     avg     alloc   %tot      avg\n",
       " ──────────────────────────────────────────────────────────────────\n",
       " \u001b[1m──────────────────────────────────────────────────────────────────\u001b[22m"
      ]
     },
     "execution_count": 22,
     "metadata": {},
     "output_type": "execute_result"
    }
   ],
   "source": [
    "const timo = Knet.TimerOutput()"
   ]
  },
  {
   "cell_type": "code",
   "execution_count": 23,
   "metadata": {},
   "outputs": [],
   "source": [
    "wembedmat = zeros(Float32,length(wembedind[1]), length(wembedind))\n",
    "for i=1:length(wembedind)\n",
    "    wembedmat[:,i] = convert(Array{Float32,1},wembedind[i])\n",
    "end"
   ]
  },
  {
   "cell_type": "code",
   "execution_count": 24,
   "metadata": {
    "scrolled": false
   },
   "outputs": [
    {
     "data": {
      "text/plain": [
       "Base.Generator{Base.Generator{Base.Iterators.Zip{Tuple{Base.Generator{Array{Any,1},getfield(Main, Symbol(\"##10#11\"))},Array{Any,1}}},getfield(Main, Symbol(\"##12#13\"))},getfield(Main, Symbol(\"##14#15\"))}(getfield(Main, Symbol(\"##14#15\"))(), Base.Generator{Base.Iterators.Zip{Tuple{Base.Generator{Array{Any,1},getfield(Main, Symbol(\"##10#11\"))},Array{Any,1}}},getfield(Main, Symbol(\"##12#13\"))}(getfield(Main, Symbol(\"##12#13\"))(), Base.Iterators.Zip{Tuple{Base.Generator{Array{Any,1},getfield(Main, Symbol(\"##10#11\"))},Array{Any,1}}}((Base.Generator{Array{Any,1},getfield(Main, Symbol(\"##10#11\"))}(getfield(Main, Symbol(\"##10#11\"))(), Any[Any[\"Al\", \"-\", \"Zaman\", \":\", \"American\", \"forces\", \"killed\", \"Shaikh\", \"Abdullah\", \"al\"  …  \"the\", \"town\", \"of\", \"Qaim\", \",\", \"near\", \"the\", \"Syrian\", \"border\", \".\"], Any[\"[\", \"This\", \"killing\", \"of\", \"a\", \"respected\", \"cleric\", \"will\", \"be\", \"causing\", \"us\", \"trouble\", \"for\", \"years\", \"to\", \"come\", \".\", \"]\"], Any[\"DPA\", \":\", \"Iraqi\", \"authorities\", \"announced\", \"that\", \"they\", \"had\", \"busted\", \"up\", \"3\", \"terrorist\", \"cells\", \"operating\", \"in\", \"Baghdad\", \".\"], Any[\"Two\", \"of\", \"them\", \"were\", \"being\", \"run\", \"by\", \"2\", \"officials\", \"of\", \"the\", \"Ministry\", \"of\", \"the\", \"Interior\", \"!\"], Any[\"The\", \"MoI\", \"in\", \"Iraq\", \"is\", \"equivalent\", \"to\", \"the\", \"US\", \"FBI\"  …  \"members\", \"of\", \"the\", \"Weathermen\", \"bombers\", \"back\", \"in\", \"the\", \"1960s\", \".\"], Any[\"The\", \"third\", \"was\", \"being\", \"run\", \"by\", \"the\", \"head\", \"of\", \"an\", \"investment\", \"firm\", \".\"], Any[\"You\", \"wonder\", \"if\", \"he\", \"was\", \"manipulating\", \"the\", \"market\", \"with\", \"his\", \"bombing\", \"targets\", \".\"], Any[\"The\", \"cells\", \"were\", \"operating\", \"in\", \"the\", \"Ghazaliyah\", \"and\", \"al\", \"-\", \"Jihad\", \"districts\", \"of\", \"the\", \"capital\", \".\"], Any[\"Although\", \"the\", \"announcement\", \"was\", \"probably\", \"made\", \"to\", \"show\", \"progress\", \"in\"  …  \"Baathists\", \"continue\", \"to\", \"penetrate\", \"the\", \"Iraqi\", \"government\", \"very\", \"hopeful\", \".\"], Any[\"It\", \"reminds\", \"me\", \"too\", \"much\", \"of\", \"the\", \"ARVN\", \"officers\", \"who\", \"were\", \"secretly\", \"working\", \"for\", \"the\", \"other\", \"side\", \"in\", \"Vietnam\", \".\"]  …  Any[\"Over\", \"two\", \"hours\", \"later\", \"(\", \"and\", \"ten\", \"minutes\", \"before\", \"they\", \"closed\", \")\", \"my\", \"car\", \"was\", \"finally\", \"finished\", \".\"], Any[\"A\", \"few\", \"minutes\", \"after\", \"I\", \"left\", \",\", \"I\", \"was\", \"called\"  …  \"which\", \"they\", \"should\", \"have\", \"left\", \"in\", \"the\", \"car\", \")\", \".\"], Any[\"Of\", \"course\", \",\", \"they\", \"would\", \"be\", \"closing\", \"in\", \"5\", \"minutes\"  …  \"to\", \"hurry\", \"up\", \"or\", \"get\", \"it\", \"the\", \"next\", \"day\", \".\"], Any[\"Of\", \"course\", \"I\", \"could\", \"n't\", \"make\", \"it\", \"back\", \"in\", \"time\"  …  \"stay\", \"5\", \"extra\", \"minutes\", \"to\", \"wait\", \"for\", \"me\", \")\", \".\"], Any[\"The\", \"next\", \"day\", \",\", \"no\", \"one\", \"could\", \"find\", \"my\", \"wheel\", \"lock\", \"and\", \"that\", \"particular\", \"technician\", \"was\", \"not\", \"in\", \".\"], Any[\"Of\", \"course\", \",\", \"they\", \"could\", \"n't\", \"call\", \"him\", \"either\", \"to\"  …  \"no\", \"wheel\", \"lock\", \"should\", \"I\", \"get\", \"a\", \"flat\", \")\", \".\"], Any[\"On\", \"Monday\", \"I\", \"called\", \"and\", \"again\", \"it\", \"was\", \"a\", \"big\"  …  \"do\", \"to\", \"find\", \"anyone\", \"who\", \"knew\", \"anything\", \"about\", \"it\", \".\"], Any[\"Supposedly\", \"they\", \"will\", \"be\", \"holding\", \"it\", \"for\", \"me\", \"this\", \"evening\"  …  \"'m\", \"sure\", \"that\", \"will\", \"also\", \"be\", \"a\", \"huge\", \"ordeal\", \".\"], Any[\"The\", \"employees\", \"at\", \"this\", \"Sear's\", \"are\", \"completely\", \"apathetic\", \"and\", \"there\"  …  \"be\", \"any\", \"sort\", \"of\", \"management\", \"that\", \"I\", \"could\", \"see\", \".\"], Any[\"I\", \"will\", \"never\", \"return\", \"there\", \"again\", \"(\", \"and\", \"now\", \"have\"  …  \"of\", \"work\", \"they\", \"actually\", \"performed\", \"on\", \"my\", \"car\", \")\", \".\"]]), Any[Any[0, 1, 1, 1, 6, 7, 1, 7, 8, 8  …  21, 18, 23, 21, 21, 28, 28, 28, 21, 1], Any[10, 3, 10, 7, 7, 7, 3, 10, 10, 0, 10, 10, 14, 10, 16, 14, 10, 10], Any[0, 1, 4, 5, 1, 9, 9, 9, 5, 9, 13, 13, 9, 13, 16, 14, 1], Any[6, 3, 1, 6, 6, 0, 9, 9, 6, 12, 12, 9, 15, 15, 12, 6], Any[2, 6, 4, 2, 6, 0, 10, 10, 10, 6  …  22, 31, 31, 31, 27, 35, 35, 35, 22, 6], Any[2, 5, 5, 5, 0, 8, 8, 5, 12, 12, 12, 8, 5], Any[2, 0, 6, 6, 6, 2, 8, 6, 12, 12, 12, 6, 2], Any[2, 4, 4, 0, 12, 12, 12, 11, 11, 11, 7, 4, 15, 15, 12, 4], Any[6, 3, 6, 6, 6, 21, 8, 6, 8, 11  …  27, 23, 29, 27, 32, 32, 29, 34, 21, 21], Any[2, 0, 2, 5, 2, 9, 9, 9, 2, 13, 13, 13, 9, 17, 17, 17, 13, 19, 13, 2]  …  Any[2, 3, 4, 17, 4, 11, 8, 9, 11, 11, 4, 4, 14, 17, 17, 17, 0, 17], Any[3, 3, 6, 6, 6, 10, 10, 10, 10, 0  …  26, 26, 26, 26, 20, 29, 29, 26, 26, 10], Any[7, 1, 7, 7, 7, 7, 0, 10, 10, 7  …  17, 15, 17, 20, 17, 20, 24, 24, 20, 7], Any[6, 1, 6, 6, 6, 0, 6, 6, 10, 6  …  6, 20, 20, 17, 22, 17, 24, 22, 6, 6], Any[3, 3, 8, 8, 6, 8, 8, 0, 11, 11, 8, 18, 15, 15, 18, 18, 18, 8, 8], Any[7, 1, 7, 7, 7, 7, 0, 7, 7, 11  …  46, 46, 38, 49, 49, 38, 51, 49, 38, 7], Any[2, 4, 4, 0, 13, 13, 13, 13, 13, 13  …  4, 15, 13, 15, 18, 16, 18, 21, 19, 4], Any[5, 5, 5, 5, 0, 5, 8, 5, 10, 5  …  15, 5, 22, 22, 22, 22, 22, 22, 15, 5], Any[2, 8, 5, 5, 2, 8, 8, 0, 13, 13  …  13, 17, 15, 19, 17, 23, 23, 23, 19, 8], Any[4, 4, 4, 0, 4, 4, 4, 10, 10, 4  …  18, 16, 21, 21, 18, 24, 24, 21, 4, 4]]))))"
      ]
     },
     "execution_count": 24,
     "metadata": {},
     "output_type": "execute_result"
    }
   ],
   "source": [
    "data4_1 = ((x,y .+ 1) for (x,y) in data4)"
   ]
  },
  {
   "cell_type": "code",
   "execution_count": 25,
   "metadata": {
    "scrolled": true
   },
   "outputs": [
    {
     "data": {
      "text/plain": [
       "12543-element Array{Tuple{Array{Int64,2},Array{Int64,1}},1}:\n",
       " ([399999 319 … 719 3], [1, 2, 2, 2, 7, 8, 2, 8, 9, 9  …  22, 19, 24, 22, 22, 29, 29, 29, 22, 2])    \n",
       " ([399999 2824 … 3 5281], [11, 4, 11, 8, 8, 8, 4, 11, 11, 1, 11, 11, 15, 11, 17, 15, 11, 11])        \n",
       " ([399999 47065 … 1236 3], [1, 2, 5, 6, 2, 10, 10, 10, 6, 10, 14, 14, 10, 14, 17, 15, 2])            \n",
       " ([399999 56 … 1793 806], [7, 4, 2, 7, 7, 1, 10, 10, 7, 13, 13, 10, 16, 16, 13, 7])                  \n",
       " ([399999 1 … 2990 3], [3, 7, 5, 3, 7, 1, 11, 11, 11, 7  …  23, 32, 32, 32, 28, 36, 36, 36, 23, 7])  \n",
       " ([399999 1 … 1002 3], [3, 6, 6, 6, 1, 9, 9, 6, 13, 13, 13, 9, 6])                                   \n",
       " ([399999 82 … 2667 3], [3, 1, 7, 7, 7, 3, 9, 7, 13, 13, 13, 7, 3])                                  \n",
       " ([399999 1 … 352 3], [3, 5, 5, 1, 13, 13, 13, 12, 12, 12, 8, 5, 16, 16, 13, 5])                     \n",
       " ([399999 377 … 6329 3], [7, 4, 7, 7, 7, 22, 9, 7, 9, 12  …  28, 24, 30, 28, 33, 33, 30, 35, 22, 22])\n",
       " ([399999 21 … 1577 3], [3, 1, 3, 6, 3, 10, 10, 10, 3, 14, 14, 14, 10, 18, 18, 18, 14, 20, 14, 3])   \n",
       " ([399999 319 … 9263 3], [1, 2, 2, 2, 7, 2, 9, 7, 14, 14, 14, 14, 9, 16, 7, 16, 19, 16, 2])          \n",
       " ([399999 1 … 10764 3], [4, 4, 8, 7, 7, 4, 1, 12, 12, 12  …  12, 24, 24, 21, 27, 27, 24, 29, 27, 8]) \n",
       " ([399999 14 … 164 3], [3, 6, 6, 6, 1, 9, 9, 6, 12, 12, 9, 18, 18, 18, 18, 18, 6, 18, 6])            \n",
       " ⋮                                                                                                   \n",
       " ([399999 101 … 1683 3], [4, 4, 1, 4, 9, 9, 9, 4, 4, 4])                                             \n",
       " ([399999 40 … 6428 3], [3, 1, 7, 7, 7, 3, 10, 10, 7, 3, 14, 14, 3, 17, 17, 14, 3])                  \n",
       " ([399999 75 … 1027 3], [3, 4, 5, 18, 5, 12, 9, 10, 12, 12, 5, 5, 15, 18, 18, 18, 1, 18])            \n",
       " ([399999 8 … 25 3], [4, 4, 7, 7, 7, 11, 11, 11, 11, 1  …  27, 27, 27, 27, 21, 30, 30, 27, 27, 11])  \n",
       " ([399999 4 … 123 3], [8, 2, 8, 8, 8, 8, 1, 11, 11, 8  …  18, 16, 18, 21, 18, 21, 25, 25, 21, 8])    \n",
       " ([399999 4 … 25 3], [7, 2, 7, 7, 7, 1, 7, 7, 11, 7  …  7, 21, 21, 18, 23, 18, 25, 23, 7, 7])        \n",
       " ([399999 1 … 7 3], [4, 4, 9, 9, 7, 9, 9, 1, 12, 12, 9, 19, 16, 16, 19, 19, 19, 9, 9])               \n",
       " ([399999 4 … 25 3], [8, 2, 8, 8, 8, 8, 1, 8, 8, 12  …  47, 47, 39, 50, 50, 39, 52, 50, 39, 8])      \n",
       " ([399999 14 … 21 3], [3, 5, 5, 1, 14, 14, 14, 14, 14, 14  …  5, 16, 14, 16, 19, 17, 19, 22, 20, 5]) \n",
       " ([399999 8758 … 12417 3], [6, 6, 6, 6, 1, 6, 9, 6, 11, 6  …  16, 6, 23, 23, 23, 23, 23, 23, 16, 6]) \n",
       " ([399999 1 … 254 3], [3, 9, 6, 6, 3, 9, 9, 1, 14, 14  …  14, 18, 16, 20, 18, 24, 24, 24, 20, 9])    \n",
       " ([399999 42 … 25 3], [5, 5, 5, 1, 5, 5, 5, 11, 11, 5  …  19, 17, 22, 22, 19, 25, 25, 22, 5, 5])     "
      ]
     },
     "execution_count": 25,
     "metadata": {},
     "output_type": "execute_result"
    }
   ],
   "source": [
    "data4c = collect(data4_1)"
   ]
  },
  {
   "cell_type": "code",
   "execution_count": 26,
   "metadata": {
    "scrolled": true
   },
   "outputs": [
    {
     "data": {
      "text/plain": [
       "lents (generic function with 1 method)"
      ]
     },
     "execution_count": 26,
     "metadata": {},
     "output_type": "execute_result"
    }
   ],
   "source": [
    "lents(datdat) = map(x->length(x[1]), datdat)"
   ]
  },
  {
   "cell_type": "code",
   "execution_count": 27,
   "metadata": {},
   "outputs": [
    {
     "data": {
      "text/plain": [
       "minib (generic function with 1 method)"
      ]
     },
     "execution_count": 27,
     "metadata": {},
     "output_type": "execute_result"
    }
   ],
   "source": [
    "function minib(data4c,batchsize)\n",
    "    datdat = sort(data4c, by=x->length(x[1]), rev=true)\n",
    "    lentsdatdat = lents(datdat)\n",
    "    uniqdat = unique(lentsdatdat)\n",
    "    lennnum = [(i,count(x->x==i,lentsdatdat),j) for (j,i) in enumerate(uniqdat)]\n",
    "    i=1\n",
    "    j=0\n",
    "    k=0\n",
    "    batdat = []\n",
    "    for (a,b,c) in lennnum\n",
    "        bb = b\n",
    "        j += b\n",
    "        j = i+b\n",
    "        k=j\n",
    "        while bb >= batchsize\n",
    "            j =i+batchsize-1\n",
    "            \n",
    "            push!(batdat, (cat([x[1] for x in datdat[i:j]]...,dims=1), cat([x[2] for x in datdat[i:j]]...,dims=2)))\n",
    "            i=j+1\n",
    "            bb -= batchsize\n",
    "        end\n",
    "        i += bb\n",
    "    end\n",
    "    batdat\n",
    "end"
   ]
  },
  {
   "cell_type": "code",
   "execution_count": 28,
   "metadata": {
    "scrolled": true
   },
   "outputs": [
    {
     "data": {
      "text/plain": [
       "470-element Array{Any,1}:\n",
       " ([399999 201 … 425 3; 399999 1 … 3 9; … ; 399999 42 … 4353 3; 399999 50 … 28947 806], [10 3 … 5 4; 10 6 … 5 4; … ; 49 10 … 48 50; 18 10 … 5 9])         \n",
       " ([399999 42 … 379 3; 399999 20 … 7877 6939; … ; 399999 84 … 611 3; 399999 42 … 111 3], [3 4 … 4 4; 1 4 … 4 4; … ; 46 46 … 44 45; 3 9 … 18 4])           \n",
       " ([399999 9 … 963 3; 399999 201 … 25 3; … ; 399999 82 … 102 806; 399999 68 … 490 3], [41 4 … 3 4; 4 4 … 1 4; … ; 41 36 … 42 44; 41 11 … 3 4])            \n",
       " ([399999 1319 … 3398 3; 399999 35 … 1167 3; … ; 399999 1 … 22 3; 399999 2773 … 11602 806], [24 24 … 3 6; 4 6 … 6 6; … ; 41 42 … 40 42; 24 10 … 6 6])    \n",
       " ([399999 38 … 1323 3; 399999 2726 … 4520 3; … ; 399999 201 … 5342 3; 399999 1 … 547 3], [4 18 … 7 3; 4 7 … 7 31; … ; 40 38 … 35 41; 4 18 … 17 31])      \n",
       " ([399999 19 … 10556 3; 399999 49 … 6479 3; … ; 399999 42 … 3125 806; 399999 1 … 2889 3], [5 11 … 6 4; 5 7 … 6 4; … ; 38 40 … 6 40; 5 11 … 42 5])        \n",
       " ([399999 109 … 719 3; 399999 133 … 7957 3; … ; 399999 54 … 219 806; 399999 193 … 529 3], [5 6 … 5 3; 5 6 … 5 5; … ; 39 36 … 37 38; 22 6 … 5 5])         \n",
       " ([399999 21 … 137 3; 399999 377 … 316 3; … ; 399999 1 … 1091 3; 399999 7 … 124987 3], [4 6 … 4 3; 4 6 … 4 7; … ; 37 39 … 37 34; 4 33 … 9 7])            \n",
       " ([399999 54 … 678 400000; 399999 9 … 17 3; … ; 399999 7 … 3223 3; 399999 54 … 25 3], [4 41 … 3 3; 4 19 … 12 1; … ; 37 1 … 38 40; 4 41 … 12 3])          \n",
       " ([399999 56 … 7814 3; 399999 114 … 2919 3; … ; 399999 1345 … 39987 3; 399999 1699 … 4550 25], [3 8 … 13 1; 4 4 … 2 2; … ; 37 39 … 36 36; 12 33 … 13 36])\n",
       " ([399999 42 … 1514 3; 399999 38 … 4584 3; … ; 399999 901 … 9059 3; 399999 213 … 3 25], [3 4 … 3 18; 1 4 … 6 5; … ; 38 29 … 38 18; 3 7 … 6 18])          \n",
       " ([399999 54 … 10107 3; 399999 27 … 96 3; … ; 399999 201 … 21 3; 399999 8 … 323 3], [4 4 … 7 5; 2 4 … 7 4; … ; 36 35 … 38 35; 4 6 … 16 14])              \n",
       " ([399999 3543 … 53031 3; 399999 64 … 1881 3; … ; 399999 1 … 179 3; 399999 121 … 309 3], [26 3 … 5 3; 26 1 … 5 1; … ; 30 38 … 36 38; 26 3 … 8 3])        \n",
       " ⋮                                                                                                                                                       \n",
       " ([399999 13770; 399999 13770; … ; 399999 4011; 399999 100159], [1 1 … 1 1])                                                                             \n",
       " ([399999 4011; 399999 800; … ; 399999 3255; 399999 10855], [1 1 … 1 1])                                                                                 \n",
       " ([399999 3255; 399999 3255; … ; 399999 3125; 399999 2664], [1 1 … 1 1])                                                                                 \n",
       " ([399999 3258; 399999 60187; … ; 399999 481; 399999 800], [1 1 … 1 1])                                                                                  \n",
       " ([399999 4859; 399999 11581; … ; 399999 4529; 399999 95], [1 1 … 1 1])                                                                                  \n",
       " ([399999 10603; 399999 10603; … ; 399999 255; 399999 3255], [1 1 … 1 1])                                                                                \n",
       " ([399999 1894; 399999 100159; … ; 399999 3255; 399999 2016], [1 1 … 1 1])                                                                               \n",
       " ([399999 2126; 399999 4846; … ; 399999 12003; 399999 12443], [1 1 … 1 1])                                                                               \n",
       " ([399999 45992; 399999 4362; … ; 399999 66; 399999 399834], [1 1 … 1 1])                                                                                \n",
       " ([399999 8696; 399999 10852; … ; 399999 2103; 399999 3125], [1 1 … 1 1])                                                                                \n",
       " ([399999 85; 399999 400000; … ; 399999 400000; 399999 400000], [1 1 … 1 1])                                                                             \n",
       " ([399999 400000; 399999 400000; … ; 399999 400000; 399999 400000], [1 1 … 1 1])                                                                         "
      ]
     },
     "execution_count": 28,
     "metadata": {},
     "output_type": "execute_result"
    }
   ],
   "source": [
    "datmb2 = minib(data4c,25)"
   ]
  },
  {
   "cell_type": "code",
   "execution_count": 29,
   "metadata": {
    "scrolled": true
   },
   "outputs": [
    {
     "data": {
      "text/plain": [
       "50×400000 KnetArray{Float32,2}:\n",
       "  0.418        0.013441  …  -0.51181   -0.75898    0.072617\n",
       "  0.24968      0.23682       0.058706  -0.47426   -0.51393 \n",
       " -0.41242     -0.16899       1.0913     0.4737     0.4728  \n",
       "  0.1217       0.40951      -0.55163    0.7725    -0.52202 \n",
       "  0.34527      0.63812      -0.10249   -0.78064   -0.35534 \n",
       " -0.044457     0.47709   …  -0.1265     0.23233    0.34629 \n",
       " -0.49688     -0.42852       0.99503    0.046114   0.23211 \n",
       " -0.17862     -0.55641       0.079711   0.84014    0.23096 \n",
       " -0.00066023  -0.364        -0.16246    0.24371    0.26694 \n",
       " -0.6566      -0.23938       0.56488    0.022978   0.41028 \n",
       "  0.27843      0.13001   …  -0.63306    0.53964    0.28031 \n",
       " -0.14767     -0.063734     -0.48592   -0.36101    0.14107 \n",
       " -0.55677     -0.39575       0.76247    0.94198   -0.30212 \n",
       "  ⋮                      ⋱                                 \n",
       "  0.012041     0.70358      -0.18204    0.035413  -0.83629 \n",
       " -0.054223     0.44858       0.041465   0.58834   -0.24698 \n",
       " -0.29871     -0.080262  …   0.024747   0.45439    0.6888  \n",
       " -0.15749      0.63003       0.20092   -0.84254   -0.17986 \n",
       " -0.34758      0.32111      -1.0851     0.1065    -0.066569\n",
       " -0.045637    -0.46765      -0.13626   -0.059397  -0.48044 \n",
       " -0.44251      0.22786       0.35052    0.090449  -0.55946 \n",
       "  0.18785      0.36034   …  -0.85891    0.30581   -0.27594 \n",
       "  0.0027849   -0.37818       0.067858  -0.61424    0.056072\n",
       " -0.18411     -0.56657      -0.25003    0.78954   -0.18907 \n",
       " -0.11514      0.044691     -1.125     -0.014116  -0.59021 \n",
       " -0.78581      0.30392       1.5863     0.6448     0.55559 "
      ]
     },
     "execution_count": 29,
     "metadata": {},
     "output_type": "execute_result"
    }
   ],
   "source": [
    "wembedmatKN = convert(KnetArray{Float32,2}, wembedmat)"
   ]
  },
  {
   "cell_type": "code",
   "execution_count": 30,
   "metadata": {
    "scrolled": true
   },
   "outputs": [
    {
     "data": {
      "text/plain": [
       "52×25 Array{Int64,2}:\n",
       " 10   3  39   6   4   3   5   7  …  16   1   1   4   4   9   5   4\n",
       " 10   6   7   6   4   1   5   4      4   2   4   4   4   2   5   4\n",
       "  7   3   7   6  12   6   5   7     16   6   2  16   1   5   5   9\n",
       "  6   6   7   6  12   6  21   4      4   6   7  16   4   2   1   6\n",
       "  7  10   7  30  10   3  21   7      7   2   7   9   4   9   7   4\n",
       " 10   6   2   6  10   8  10   8  …   4   8   4   9   8   8   5   9\n",
       " 10   6   7  11   7   3  10   1      9   2  10   9   6   9   9   9\n",
       " 10  10  15  10  10   3  10  10     16  10  10  16   6   1   7   1\n",
       " 18   1  15  11   5  12  21   8     16   2   2  12  12  24  11  12\n",
       " 18  13  15   7  12  12  21  14     16  12  14  12  12  24   9  12\n",
       " 13  13  15  13   1  14  14  14  …  16  10  13   9   4  13  13   9\n",
       " 18  10  14  11  14  14  14  14     12  15  14  16  17  24   9  17\n",
       " 17  10  15  30  12   3  21  10     16  15  10  15  17  15  15  17\n",
       "  ⋮                   ⋮          ⋱               ⋮                \n",
       " 43  43  43  40  41  47  43  43  …  46  44  43  43  44  41  41   9\n",
       " 41  40  48  44  41  45  35  38     45  44  37  36  44  41  38  45\n",
       " 46  45  45  42  41  45  45  45     45  34  45  46  39  41  48  45\n",
       " 46  43  43  47  46  42  43  43     46  46  37  46  50  46  48  42\n",
       " 43  48  48  47  41  47  50  45     41  44  48  43  50  41  48   9\n",
       " 49  48  48  40  48  14  50  45  …  48  48  48  50  50  50  48  50\n",
       " 49  40  39  51  46  51  50  50     41  46  37  50  50  50   5  50\n",
       " 46  51  52  51  50  51  50  50     39  53  50  50  50  50  50  50\n",
       " 52  51  52  51  48  51  43  45     52  51  37  36  33   9  48  45\n",
       " 52  48  52  40  12  47  52  50     52  49  53  53  50  52  52  52\n",
       " 49  10  48  51  12  51  50  50  …  39  53  53  53  53  50  48  50\n",
       " 18  10  39  30  12   3  21   8     16  48  37  50  50   9   5   9"
      ]
     },
     "execution_count": 30,
     "metadata": {},
     "output_type": "execute_result"
    }
   ],
   "source": [
    "datmb2[1][2]"
   ]
  },
  {
   "cell_type": "code",
   "execution_count": 31,
   "metadata": {
    "scrolled": true
   },
   "outputs": [],
   "source": [
    "#datmb3 = [(x,y') for (x,y) in datmb2]"
   ]
  },
  {
   "cell_type": "code",
   "execution_count": 32,
   "metadata": {},
   "outputs": [],
   "source": [
    "struct MyData1 end\n",
    "struct EmbMatT end\n",
    "struct EmbMatPar end"
   ]
  },
  {
   "cell_type": "code",
   "execution_count": 33,
   "metadata": {},
   "outputs": [],
   "source": [
    "struct Embed; w; end\n",
    "\n",
    "Embed(vocab::Int,embed::Int)=Embed(param(embed,vocab))\n",
    "Embed(wmat, ::EmbMatT) = Embed(wmat)\n",
    "Embed(wmat, aType, ::EmbMatPar) = Embed(param(wembedmat, atype = aType))\n",
    "Embed(wmat, ::EmbMatPar) = Embed(param(wembedmat))\n",
    "\n",
    "(e::Embed)(x) = e.w[:,x]  # (B,T)->(X,B,T)->rnn->(H,B,T)"
   ]
  },
  {
   "cell_type": "code",
   "execution_count": 34,
   "metadata": {},
   "outputs": [],
   "source": [
    "struct Dense; w; b; f; end\n",
    "Dense(i::Int,o::Int,f=identity) = Dense(param(o,i), param0(o), f)\n",
    "(d::Dense)(x) = d.f.(d.w * mat(x,dims=1) .+ d.b)"
   ]
  },
  {
   "cell_type": "code",
   "execution_count": 35,
   "metadata": {},
   "outputs": [],
   "source": [
    "struct Linear; w; b; end\n",
    "\n",
    "Linear(input::Int, output::Int)=Linear(param(output,input), param0(output))\n",
    "\n",
    "(l::Linear)(x) = l.w * mat(x,dims=1) .+ l.b  # (H,B,T)->(H,B*T)->(V,B*T)\n",
    "(l::Linear)(x,y)= quadl(l(x),y)[1]"
   ]
  },
  {
   "cell_type": "code",
   "execution_count": 36,
   "metadata": {},
   "outputs": [],
   "source": [
    "struct Chain\n",
    "    layers\n",
    "    Chain(layers...) = new(layers)\n",
    "end\n",
    "(c::Chain)(x) = (for l in c.layers; x = l(x); end; x)\n",
    "(c::Chain)(x,y) = nll(c(x),y)\n",
    "(c::Chain)(d::Data) = mean(c(x,y) for (x,y) in d)\n",
    "(c::Chain)(d,a,b) = mean(c(x,y) for (x,y) in d)\n",
    "(c::Chain)(d, ::MyData1) = mean(c(x,y) for (x,y) in d)"
   ]
  },
  {
   "cell_type": "code",
   "execution_count": 37,
   "metadata": {},
   "outputs": [
    {
     "data": {
      "text/plain": [
       "MLP (generic function with 1 method)"
      ]
     },
     "execution_count": 37,
     "metadata": {},
     "output_type": "execute_result"
    }
   ],
   "source": [
    "MLP(i::Int, h::Int, o::Int) = Chain(Dense(i,h, Knet.relu), Dense(h,o,Knet.relu))"
   ]
  },
  {
   "cell_type": "code",
   "execution_count": 38,
   "metadata": {},
   "outputs": [
    {
     "data": {
      "text/plain": [
       "batchmult_old (generic function with 1 method)"
      ]
     },
     "execution_count": 38,
     "metadata": {},
     "output_type": "execute_result"
    }
   ],
   "source": [
    "function batchmult_old(w,x;dim=3)\n",
    "    xb = ndims(x)>=3\n",
    "    wb = ndims(w)>=3\n",
    "    if(wb && xb)\n",
    "        return cat(collect([w[:,:,i]*x[:,:,i] for i in 1:size(x,dim)])..., dims=dim)\n",
    "    elseif(wb)\n",
    "        return cat(collect([w[:,:,i]*x for i in 1:size(x,dim)])..., dims=dim)\n",
    "    elseif(xb)\n",
    "        return cat(collect([w*x[:,:,i] for i in 1:size(x,dim)])..., dims=dim)\n",
    "    else\n",
    "        return wb*xb\n",
    "    end\n",
    "end"
   ]
  },
  {
   "cell_type": "code",
   "execution_count": 39,
   "metadata": {},
   "outputs": [
    {
     "data": {
      "text/plain": [
       "batchmult (generic function with 1 method)"
      ]
     },
     "execution_count": 39,
     "metadata": {},
     "output_type": "execute_result"
    }
   ],
   "source": [
    "function batchmult(w,x;dim=3)\n",
    "    xb = ndims(x)>=3\n",
    "    wb = ndims(w)>=3\n",
    "    if(wb && xb)\n",
    "        return reshape(vcat(collect([w[:,:,i]*x[:,:,i] for i in 1:size(x,dim)])...), size(w,1), size(x,2), :)\n",
    "    elseif(wb)\n",
    "        return reshape(vcat(collect([w[:,:,i]*x for i in 1:size(x,dim)])...), size(w,1), size(x,2), :)\n",
    "    elseif(xb)\n",
    "        return reshape(vcat(collect([w*x[:,:,i] for i in 1:size(x,dim)])...), size(w,1), size(x,2), :)\n",
    "    else\n",
    "        return wb*xb\n",
    "    end\n",
    "end"
   ]
  },
  {
   "cell_type": "code",
   "execution_count": 40,
   "metadata": {},
   "outputs": [
    {
     "data": {
      "text/plain": [
       "batchmult_wew (generic function with 1 method)"
      ]
     },
     "execution_count": 40,
     "metadata": {},
     "output_type": "execute_result"
    }
   ],
   "source": [
    "function batchmult_wew(w,x)\n",
    "    return reshape(hcat(collect([w[:,i,:]*x[:,i,:] for i in 1:size(x,2)])...), size(w,1), size(x,3), :)\n",
    "end"
   ]
  },
  {
   "cell_type": "code",
   "execution_count": 41,
   "metadata": {},
   "outputs": [
    {
     "data": {
      "text/plain": [
       "batchmult_new (generic function with 1 method)"
      ]
     },
     "execution_count": 41,
     "metadata": {},
     "output_type": "execute_result"
    }
   ],
   "source": [
    "function batchmult_new(w,x)\n",
    "    A = KnetArray{Float32,3}(zeros(size(w,1),size(x,2),size(x,3)))\n",
    "    for i= 1:size(x,3)\n",
    "        A[:,:,i] = w[:,:,i]*x[:,:,i]\n",
    "    end\n",
    "    A\n",
    "end"
   ]
  },
  {
   "cell_type": "code",
   "execution_count": 42,
   "metadata": {},
   "outputs": [],
   "source": [
    "struct Biaff; mlphead; mlpdep; w; b; end;\n",
    "#Biaff(mlph::MLP, mlpd::MLP, input::Int, output::Int)=Biaff(mlph, mlpd , param(output,input), param0(output))\n",
    "Biaff(rhid::Int, mlph::Int, m::Int, input::Int, output::Int) =\n",
    "    Biaff(MLP(rhid,mlph, m) , MLP(rhid,mlph, m) , param(m,m), param0(m))\n",
    "Biaff(rhid::Int, mlph::Int, m::Int) =\n",
    "    Biaff(MLP(rhid,mlph, m) , MLP(rhid,mlph, m) , param(m,m), param0(m))\n",
    "\n",
    "(bi::Biaff)(x) = begin\n",
    "    tts = size(x,3)\n",
    "    bbs = size(x,2)\n",
    "    Knet.@timeit timo \"mlphead\" archead = bi.mlphead(x)\n",
    "    Knet.@timeit timo \"mlpdep\" arcdep = bi.mlpdep(x[:,:,2:end])\n",
    "    hms = size(archead,1)\n",
    "    archeadt = archead'\n",
    "    HW = reshape(archeadt * bi.w , tts, bbs, hms) # t+bh\n",
    "    #HW1 = reshape(HW,tts,bbs*hms) #t+ bh\n",
    "    #HW1tr = reshape(HW1', bbs,hms*tts) # b ht+\n",
    "    #HW1trtr = reshape(HW1tr', hms,tts,bbs) # ht+b\n",
    "    HW1 = reshape(HW,tts*bbs,hms) #t+b h\n",
    "    HW1tr = reshape(HW1', hms,tts,bbs) # ht+b\n",
    "    #HW1trtr = reshape(HW1tr', hms,tts,bbs) # ht+b\n",
    "    \n",
    "    Hb = reshape(archeadt * bi.b,bbs,tts)\n",
    "    Hbt = Hb'\n",
    "    Hbtr = reshape(Hbt, 1, tts , bbs)\n",
    "    arcdepr = reshape(arcdep, hms, bbs, tts-1) #hbt\n",
    "    arcdepr1 = reshape(arcdepr, hms*bbs,(tts-1)) #hb t\n",
    "    arcdepr1tr = reshape(arcdepr1',(tts-1),hms,bbs)#t hb\n",
    "    #arcdepr1 = reshape(arcdepr, hms, bbs*(tts-1)) #h bt\n",
    "    #arcdepr1tr = reshape(arcdepr1', bbs,(tts-1)*hms)#b th\n",
    "    #arcdepr1trtr = reshape(arcdepr1tr', tts-1,hms,bbs)#thb\n",
    "    HWH = Knet.bmm(arcdepr1tr,HW1tr)\n",
    "    #print(size(Hb))\n",
    "    #HWHtr = reshape(HWH', tts, tts-1 , bbs)\n",
    "    #print(size(HW[:,1,:]))\n",
    "    #clct1 = collect([HW[:,i,:]*arcdepr[:,i,:] for i in 1:bbs])\n",
    "    #clct1 = collect([view(HW,:,:,i)*view(arcdepr,:,:,1) for i in 1:bbs])\n",
    "    #HWH = hcat(clct1...)\n",
    "    #HWH = batchmult_wew(HW,arcdepr)\n",
    "    #HWHr = reshape(HWH, tts,tts-1,bbs)\n",
    "    S = HWH .+ Hbtr\n",
    "    Sr = reshape(S, tts-1,tts*bbs)\n",
    "    Srtr = reshape(Sr', tts,bbs,tts-1)\n",
    "    return Srtr\n",
    "end"
   ]
  },
  {
   "cell_type": "code",
   "execution_count": 43,
   "metadata": {},
   "outputs": [],
   "source": [
    "struct Biaff; mlphead; mlpdep; w; b; end;\n",
    "#Biaff(mlph::MLP, mlpd::MLP, input::Int, output::Int)=Biaff(mlph, mlpd , param(output,input), param0(output))\n",
    "Biaff(rhid::Int, mlph::Int, m::Int, input::Int, output::Int) =\n",
    "    Biaff(MLP(rhid,mlph, m) , MLP(rhid,mlph, m) , param(m,m), param0(m))\n",
    "Biaff(rhid::Int, mlph::Int, m::Int) =\n",
    "    Biaff(MLP(rhid,mlph, m) , MLP(rhid,mlph, m) , param(m,m), param0(m))\n",
    "\n",
    "(bi::Biaff)(x) = begin\n",
    "    tts = size(x,3)\n",
    "    bbs = size(x,2)\n",
    "    Knet.@timeit timo \"mlphead\" archead = bi.mlphead(x)\n",
    "    Knet.@timeit timo \"mlpdep\" arcdep = bi.mlpdep(x[:,:,2:end])\n",
    "    hms = size(archead,1)\n",
    "    archeadr = reshape(archead, hms, bbs, tts)\n",
    "    #archeadr2 = reshape(archead, hms, bbs, tts)\n",
    "    #KnetArray(permutedims(Array(archeadr),[3, 1, 2]))\n",
    "    Knet.@timeit timo \"perdim1\" archeadp = KnetArray(permutedims(Array(archeadr),[3, 1, 2]))\n",
    "    Knet.@timeit timo \"perdim2\" archeadpp = KnetArray(permutedims(Array(archeadr),[3, 2, 1]))\n",
    "    archeadppr = reshape(archeadpp, bbs*tts, hms)\n",
    "    Knet.@timeit timo \"WH\" WH = bi.w * arcdep\n",
    "    WHr = reshape(WH, size(WH,1), bbs, tts-1)\n",
    "    #KnetArray(permutedims(Array(WHr),[1, 3, 2]))\n",
    "    Knet.@timeit timo \"perdim3\" WHp = KnetArray(permutedims(Array(WHr),[1, 3, 2]))\n",
    "    Knet.@timeit timo \"HWH(bmm)\" HWH = Knet.bmm(archeadp, WHp)\n",
    "    Hb = archeadppr * bi.b \n",
    "    Hbr = reshape(Hb, tts, 1 , bbs)\n",
    "    S = HWH .+ Hbr\n",
    "end"
   ]
  },
  {
   "cell_type": "code",
   "execution_count": 44,
   "metadata": {
    "scrolled": true
   },
   "outputs": [
    {
     "data": {
      "text/plain": [
       "3-element Array{Int64,1}:\n",
       " 3\n",
       " 1\n",
       " 2"
      ]
     },
     "execution_count": 44,
     "metadata": {},
     "output_type": "execute_result"
    }
   ],
   "source": [
    "a = [3,1,2]"
   ]
  },
  {
   "cell_type": "code",
   "execution_count": 45,
   "metadata": {},
   "outputs": [],
   "source": [
    "struct Biaff; mlphead; mlpdep; w; b; end;\n",
    "#Biaff(mlph::MLP, mlpd::MLP, input::Int, output::Int)=Biaff(mlph, mlpd , param(output,input), param0(output))\n",
    "Biaff(rhid::Int, mlph::Int, m::Int, input::Int, output::Int) =\n",
    "    Biaff(MLP(rhid,mlph, m) , MLP(rhid,mlph, m) , param(m,m), param0(m))\n",
    "Biaff(rhid::Int, mlph::Int, m::Int) =\n",
    "    Biaff(MLP(rhid,mlph, m) , MLP(rhid,mlph, m) , param(m,m), param0(m))\n",
    "\n",
    "(bi::Biaff)(x) = begin\n",
    "    tts = size(x,3)\n",
    "    bbs = size(x,2)\n",
    "    Knet.@timeit timo \"mlphead\" archead = bi.mlphead(x)\n",
    "    Knet.@timeit timo \"mlpdep\" arcdep = bi.mlpdep(x[:,:,2:end])\n",
    "    hms = size(archead,1)\n",
    "    Knet.@timeit timo \"perdim1\" archeadp = KnetArray(permutedims(Array(reshape(archead, hms, bbs, tts)), [3, 1, 2]))\n",
    "    Knet.@timeit timo \"perdim2\" archeadpp = KnetArray(permutedims(Array(reshape(archead, hms, bbs, tts)), [3, 2, 1]))\n",
    "    archeadppr = reshape(archeadpp, bbs*tts, hms)\n",
    "    Knet.@timeit timo \"WH\" WH = bi.w * arcdep\n",
    "    Knet.@timeit timo \"perdim3\" WHp = KnetArray(permutedims(Array(reshape(WH, size(WH,1), bbs, tts-1)), [1,3,2]))\n",
    "    Knet.@timeit timo \"HWH(bmm)\" HWH = Knet.bmm(archeadp, WHp)\n",
    "    Hb = archeadppr * bi.b \n",
    "    Hbr = reshape(Hb, tts, 1 , bbs)\n",
    "    S = HWH .+ Hbr\n",
    "end"
   ]
  },
  {
   "cell_type": "code",
   "execution_count": 46,
   "metadata": {},
   "outputs": [],
   "source": [
    "struct Biaff; mlphead; mlpdep; w; b; end;\n",
    "#Biaff(mlph::MLP, mlpd::MLP, input::Int, output::Int)=Biaff(mlph, mlpd , param(output,input), param0(output))\n",
    "Biaff(rhid::Int, mlph::Int, m::Int, input::Int, output::Int) =\n",
    "    Biaff(MLP(rhid,mlph, m) , MLP(rhid,mlph, m) , param(m,m), param0(m))\n",
    "Biaff(rhid::Int, mlph::Int, m::Int) =\n",
    "    Biaff(MLP(rhid,mlph, m) , MLP(rhid,mlph, m) , param(m,m), param0(m))\n",
    "\n",
    "(bi::Biaff)(x) = begin\n",
    "    tts = size(x,3)\n",
    "    bbs = size(x,2)\n",
    "    Knet.@timeit timo \"mlphead\" archead = bi.mlphead(x)\n",
    "    Knet.@timeit timo \"mlpdep\" arcdep = bi.mlpdep(x[:,:,2:end])\n",
    "    hms = size(archead,1)\n",
    "    Knet.@timeit timo \"perdim1\" archeadp = reshape(archead, hms* bbs, tts)' #t x hb\n",
    "    Knet.@timeit timo \"perdim2\" archeadpp = permutedims(reshape(archead, hms, bbs, tts), [3, 2, 1])\n",
    "    archeadppr = reshape(archeadpp, bbs*tts, hms)\n",
    "    Knet.@timeit timo \"WH\" WH = bi.w * arcdep\n",
    "    Knet.@timeit timo \"perdim3\" WHp = permutedims(reshape(WH, size(WH,1), bbs, tts-1), [1,3,2])\n",
    "    Knet.@timeit timo \"HWH(bmm)\" HWH = Knet.bmm(archeadp, WHp)\n",
    "    Hb = archeadppr * bi.b \n",
    "    Hbr = reshape(Hb, tts, 1 , bbs)\n",
    "    S = HWH .+ Hbr\n",
    "end"
   ]
  },
  {
   "cell_type": "code",
   "execution_count": 47,
   "metadata": {},
   "outputs": [
    {
     "data": {
      "text/plain": [
       "fModel (generic function with 1 method)"
      ]
     },
     "execution_count": 47,
     "metadata": {},
     "output_type": "execute_result"
    }
   ],
   "source": [
    "fModel(tembed::Int, rnnh::Int, mlp1h::Int, mlp1o::Int; o...) = \n",
    "    Chain(RNN(tembed, rnnh; bidirectional=true, rnnType = :lstm,o...), Biaff(2*rnnh,mlp1h,mlp1o))"
   ]
  },
  {
   "cell_type": "code",
   "execution_count": 48,
   "metadata": {},
   "outputs": [
    {
     "data": {
      "text/plain": [
       "fModel2 (generic function with 1 method)"
      ]
     },
     "execution_count": 48,
     "metadata": {},
     "output_type": "execute_result"
    }
   ],
   "source": [
    "fModel2(wmat, tembed::Int, rnnh::Int, mlp1h::Int, mlp1o::Int; o...) = \n",
    "    Chain(Embed(wmat, EmbMatT()), RNN(tembed, rnnh; bidirectional=true, rnnType = :lstm,o...), Biaff(2*rnnh,mlp1h,mlp1o))"
   ]
  },
  {
   "cell_type": "code",
   "execution_count": 49,
   "metadata": {},
   "outputs": [
    {
     "data": {
      "text/plain": [
       "fModel3 (generic function with 1 method)"
      ]
     },
     "execution_count": 49,
     "metadata": {},
     "output_type": "execute_result"
    }
   ],
   "source": [
    "fModel3(wmat, tembed::Int, rnnh::Int, mlp1h::Int, mlp1o::Int; o...) = \n",
    "    Chain(Embed(wmat, KnetArray, EmbMatPar()), RNN(tembed, rnnh; bidirectional=true, rnnType = :lstm,dropout=0.3, o...), Biaff(2*rnnh,mlp1h,mlp1o))"
   ]
  },
  {
   "cell_type": "code",
   "execution_count": 50,
   "metadata": {
    "scrolled": true
   },
   "outputs": [
    {
     "data": {
      "text/plain": [
       "470-element Array{Any,1}:\n",
       " ([399999 42 … 284 3; 399999 1 … 1573 3; … ; 399999 153615 … 607 3; 399999 831 … 7085 1485], [4 3 … 8 1; 4 5 … 8 2; … ; 15 8 … 13 4; 4 5 … 8 19])     \n",
       " ([399999 40 … 833 3; 399999 40 … 1655 3; … ; 399999 5 … 49 3; 399999 24 … 3 25], [5 3 … 3 8; 5 1 … 7 6; … ; 13 17 … 15 8; 5 3 … 7 8])                \n",
       " ([399999 183070 … 104 3; 399999 26 … 189 9; … ; 399999 159 … 9351 3; 399999 13698 … 3 13698], [1 5 … 3 3; 2 5 … 15 16; … ; 18 7 … 15 16; 2 7 … 15 3])\n",
       " ([399999 8 … 86 3; 399999 2539 … 20369 3; … ; 399999 54 … 11592 3; 399999 121 … 2040 189], [4 4 … 4 3; 4 2 … 4 1; … ; 11 10 … 13 11; 4 4 … 4 3])     \n",
       " ([399999 85 … 13 3; 399999 24093 … 5857 3; … ; 399999 1872 … 4051 3; 399999 3833 … 1156 3], [7 8 … 1 3; 7 4 … 2 1; … ; 7 1 … 6 7; 7 8 … 2 3])        \n",
       " ([399999 30 … 3 9; 399999 64 … 5536 3; … ; 399999 1887 … 18815 3; 399999 423 … 2779 3], [3 3 … 1 1; 16 1 … 2 2; … ; 16 14 … 16 16; 16 3 … 2 2])      \n",
       " ([399999 42 … 17203 3; 399999 11 … 547 189; … ; 399999 42 … 136 3; 399999 21 … 2861 3], [5 3 … 6 7; 5 14 … 6 7; … ; 13 1 … 12 7; 5 14 … 6 7])        \n",
       " ([399999 109 … 111 3; 399999 7 … 1580 3; … ; 399999 193 … 7647 3; 399999 163 … 6770 3], [4 3 … 3 3; 4 10 … 15 5; … ; 23 23 … 24 24; 11 10 … 15 5])   \n",
       " ([399999 400000 … 8132 3; 399999 89 … 21 3; … ; 399999 42 … 421 3; 399999 1466 … 8018 3], [6 4 … 4 1; 6 4 … 4 4; … ; 1 4 … 4 2; 6 4 … 4 2])          \n",
       " ([399999 103 … 6060 189; 399999 413 … 21 3; … ; 399999 1401 … 70413 3; 399999 85 … 42618 75], [7 4 … 1 3; 7 4 … 2 1; … ; 1 6 … 5 6; 7 4 … 2 5])      \n",
       " ([399999 4886 46; 399999 6479 46; … ; 399999 18845 2; 399999 3125 806], [1 1 … 1 1; 2 2 … 2 2])                                                      \n",
       " ([399999 16842 … 347 435; 399999 11 … 104602 3; … ; 399999 1097 … 5350 3; 399999 35 … 31 806], [1 3 … 7 4; 2 1 … 4 4; … ; 2 3 … 1 4; 2 3 … 7 4])     \n",
       " ([399999 42 … 7410 806; 399999 163 … 100682 806; … ; 399999 15 … 7 189; 399999 3833 … 1097 1727], [3 3 … 6 3; 1 9 … 6 1; … ; 5 1 … 8 8; 3 9 … 6 9])  \n",
       " ⋮                                                                                                                                                    \n",
       " ([399999 19 … 259 3; 399999 42 … 11882 3; … ; 399999 21 … 1574 3; 399999 84 … 581 3], [4 3 … 4 4; 4 1 … 4 4; … ; 15 17 … 15 17; 4 3 … 4 17])         \n",
       " ([399999 1283 400000 46; 399999 400000 400000 3346; … ; 399999 400000 400000 914; 399999 4534 400000 1918], [1 1 … 1 1; 2 4 … 4 2; 2 2 … 2 2])       \n",
       " ([399999 118 … 188 3; 399999 54 … 5041 3; … ; 399999 344 … 4915 3; 399999 159 … 1949 3], [14 5 … 9 3; 2 5 … 6 5; … ; 1 12 … 12 11; 14 5 … 9 11])     \n",
       " ([399999 99593 … 7189 5222; 399999 579 … 3256 3; … ; 399999 12 … 1259 400000; 399999 8608 … 8046 12], [1 1 … 5 3; 2 4 … 5 1; 5 2 … 5 3; 2 2 … 1 3])  \n",
       " ([399999 1 … 1498 3; 399999 177 … 697 189; … ; 399999 5 … 3939 3; 399999 5 … 82 3], [4 7 … 3 3; 4 2 … 11 13; … ; 12 14 … 13 13; 10 2 … 11 13])       \n",
       " ([399999 918 … 6110 3; 399999 1 … 6549 3; … ; 399999 42 … 67 3; 399999 891 … 27061 6939], [4 3 … 5 1; 4 12 … 5 4; … ; 34 32 … 21 2; 6 12 … 5 2])     \n",
       " ([399999 1 … 25 3; 399999 19595 … 3 9; … ; 399999 1546 … 259 37587; 399999 9 … 4091 3], [3 6 … 1 15; 7 5 … 2 6; … ; 16 6 … 2 15; 7 6 … 2 15])        \n",
       " ([399999 11 … 46 400000; 399999 35 … 27814 64030; … ; 399999 21 … 1434 3; 399999 54 … 5621 3], [4 16 … 3 3; 4 7 … 1 1; … ; 16 16 … 15 3; 16 7 … 3 3])\n",
       " ([399999 332 … 8980 3; 399999 152 … 61 3; … ; 399999 1 … 2552 37587; 399999 4011 … 902 3], [3 5 … 6 3; 6 5 … 6 1; … ; 1 5 … 1 4; 6 5 … 6 3])         \n",
       " ([399999 2083 … 18 3; 399999 193 … 1696 3; … ; 399999 19 … 69563 3; 399999 68 … 189 9], [12 4 … 4 4; 2 4 … 4 4; … ; 16 11 … 8 4; 12 11 … 4 4])       \n",
       " ([399999 3125 … 4886 3; 399999 4384 … 3065 3; … ; 399999 482 … 366 338; 399999 42 … 6601 806], [1 1 … 3 5; 5 2 … 1 5; … ; 2 2 … 6 1; 2 2 … 3 5])     \n",
       " ([399999 107 … 1517 3; 399999 54 … 1930 3; … ; 399999 42 … 138 3; 399999 45 … 220 3], [3 8 … 3 3; 10 8 … 1 7; … ; 10 8 … 14 7; 10 8 … 14 7])         "
      ]
     },
     "execution_count": 50,
     "metadata": {},
     "output_type": "execute_result"
    }
   ],
   "source": [
    "datmb2sh = Knet.shuffle(datmb2)\n",
    "#datmb3sh = Knet.shuffle(datmb3)"
   ]
  },
  {
   "cell_type": "code",
   "execution_count": 51,
   "metadata": {
    "scrolled": true
   },
   "outputs": [
    {
     "data": {
      "text/plain": [
       "70-element Array{Any,1}:\n",
       " ([399999 89 … 13175 189; 399999 1 … 50 3; … ; 399999 42 … 38 3; 399999 1 … 2558 3], [4 3 … 4 4; 4 9 … 4 4; … ; 14 17 … 19 12; 4 9 … 4 8])                \n",
       " ([399999 7024 … 12962 3; 399999 19 … 15881 3; … ; 399999 126 … 2604 3; 399999 24 … 18914 25], [6 3 … 5 4; 4 1 … 5 4; … ; 16 9 … 10 7; 13 3 … 5 4])       \n",
       " ([399999 82 … 807 3; 399999 21 … 49 806; … ; 399999 42 … 967 3; 399999 101 … 627 3], [4 4 … 4 5; 4 4 … 4 5; … ; 18 21 … 17 20; 4 4 … 4 5])               \n",
       " ([399999 4859; 399999 11581; … ; 399999 4529; 399999 95], [1 1 … 1 1])                                                                                   \n",
       " ([399999 4587 … 4875 3; 399999 120 … 548 189; … ; 399999 87 … 2750 189; 399999 3833 … 1522 3], [6 4 … 4 3; 6 4 … 4 1; … ; 6 6 … 4 3; 6 4 … 4 3])         \n",
       " ([399999 56 … 344 3; 399999 45040 … 662 3; … ; 399999 97 … 1001 3; 399999 84 … 5691 3], [5 5 … 12 10; 5 5 … 4 10; … ; 12 13 … 14 13; 8 5 … 12 13])       \n",
       " ([399999 12 … 400000 400000; 399999 82 … 971 400000; … ; 399999 1230 … 25 3; 399999 42 … 3198 3], [10 5 … 5 6; 10 5 … 5 6; … ; 12 5 … 20 20; 12 5 … 5 6])\n",
       " ([399999 115 … 4718 3; 399999 22 … 1873 3; … ; 399999 50 … 752 3; 399999 285 … 2454 3], [18 3 … 3 5; 10 7 … 9 5; … ; 27 27 … 28 24; 20 7 … 9 11])        \n",
       " ([399999 47065 … 1236 3; 399999 7 … 9653 3; … ; 399999 1 … 10 3; 399999 24 … 28 25], [1 3 … 4 5; 2 12 … 4 5; … ; 15 12 … 16 5; 2 12 … 6 5])              \n",
       " ([399999 8890 46; 399999 4478 46; … ; 399999 5624 2; 399999 9482 2], [1 1 … 1 1; 2 2 … 2 2])                                                             \n",
       " ([399999 2856 … 4589 21151; 399999 1 … 1606 3; … ; 399999 255 … 329 806; 399999 120293 … 271 3], [1 3 … 3 5; 2 5 … 1 4; … ; 2 1 … 3 1; 2 5 … 3 5])       \n",
       " ([399999 340 … 1039 3; 399999 13118 … 2768 189; … ; 399999 47 … 2608 189; 399999 193 … 3448 400000], [1 1 … 5 3; 2 4 … 5 5; … ; 2 2 … 1 1; 2 2 … 5 5])   \n",
       " ([399999 45 … 469 3; 399999 68 … 146 3; … ; 399999 42 … 2091 3; 399999 1 … 70 3], [3 6 … 3 3; 6 6 … 1 12; … ; 6 8 … 10 1; 6 6 … 3 12])                   \n",
       " ⋮                                                                                                                                                        \n",
       " ([399999 19 … 259 3; 399999 42 … 11882 3; … ; 399999 21 … 1574 3; 399999 84 … 581 3], [4 3 … 4 4; 4 1 … 4 4; … ; 15 17 … 15 17; 4 3 … 4 17])             \n",
       " ([399999 1283 400000 46; 399999 400000 400000 3346; … ; 399999 400000 400000 914; 399999 4534 400000 1918], [1 1 … 1 1; 2 4 … 4 2; 2 2 … 2 2])           \n",
       " ([399999 118 … 188 3; 399999 54 … 5041 3; … ; 399999 344 … 4915 3; 399999 159 … 1949 3], [14 5 … 9 3; 2 5 … 6 5; … ; 1 12 … 12 11; 14 5 … 9 11])         \n",
       " ([399999 99593 … 7189 5222; 399999 579 … 3256 3; … ; 399999 12 … 1259 400000; 399999 8608 … 8046 12], [1 1 … 5 3; 2 4 … 5 1; 5 2 … 5 3; 2 2 … 1 3])      \n",
       " ([399999 1 … 1498 3; 399999 177 … 697 189; … ; 399999 5 … 3939 3; 399999 5 … 82 3], [4 7 … 3 3; 4 2 … 11 13; … ; 12 14 … 13 13; 10 2 … 11 13])           \n",
       " ([399999 918 … 6110 3; 399999 1 … 6549 3; … ; 399999 42 … 67 3; 399999 891 … 27061 6939], [4 3 … 5 1; 4 12 … 5 4; … ; 34 32 … 21 2; 6 12 … 5 2])         \n",
       " ([399999 1 … 25 3; 399999 19595 … 3 9; … ; 399999 1546 … 259 37587; 399999 9 … 4091 3], [3 6 … 1 15; 7 5 … 2 6; … ; 16 6 … 2 15; 7 6 … 2 15])            \n",
       " ([399999 11 … 46 400000; 399999 35 … 27814 64030; … ; 399999 21 … 1434 3; 399999 54 … 5621 3], [4 16 … 3 3; 4 7 … 1 1; … ; 16 16 … 15 3; 16 7 … 3 3])    \n",
       " ([399999 332 … 8980 3; 399999 152 … 61 3; … ; 399999 1 … 2552 37587; 399999 4011 … 902 3], [3 5 … 6 3; 6 5 … 6 1; … ; 1 5 … 1 4; 6 5 … 6 3])             \n",
       " ([399999 2083 … 18 3; 399999 193 … 1696 3; … ; 399999 19 … 69563 3; 399999 68 … 189 9], [12 4 … 4 4; 2 4 … 4 4; … ; 16 11 … 8 4; 12 11 … 4 4])           \n",
       " ([399999 3125 … 4886 3; 399999 4384 … 3065 3; … ; 399999 482 … 366 338; 399999 42 … 6601 806], [1 1 … 3 5; 5 2 … 1 5; … ; 2 2 … 6 1; 2 2 … 3 5])         \n",
       " ([399999 107 … 1517 3; 399999 54 … 1930 3; … ; 399999 42 … 138 3; 399999 45 … 220 3], [3 8 … 3 3; 10 8 … 1 7; … ; 10 8 … 14 7; 10 8 … 14 7])             "
      ]
     },
     "execution_count": 51,
     "metadata": {},
     "output_type": "execute_result"
    }
   ],
   "source": [
    "dtrn = datmb2sh[1:400]\n",
    "dtst = datmb2sh[401:470]"
   ]
  },
  {
   "cell_type": "code",
   "execution_count": 52,
   "metadata": {
    "scrolled": true
   },
   "outputs": [
    {
     "data": {
      "text/plain": [
       "trainresults (generic function with 1 method)"
      ]
     },
     "execution_count": 52,
     "metadata": {},
     "output_type": "execute_result"
    }
   ],
   "source": [
    "# For running experiments\n",
    "function trainresults(file,model; o...)\n",
    "    if (print(\"Train from scratch? \"); readline()[1]=='y')\n",
    "        takeevery(n,itr) = (x for (i,x) in enumerate(itr) if i % n == 1)\n",
    "        r = ((model(dtrn,MyData1()), model(dtst,MyData1()), zeroone(model,dtrn), zeroone(model,dtst))\n",
    "             for x in takeevery(length(dtrn), progress(adam(model,repeat(dtrn,30)))))\n",
    "        r = reshape(collect(Float32,flatten(r)),(4,:))\n",
    "        Knet.save(file,\"results\",r)\n",
    "        Knet.gc() # To save gpu memory\n",
    "    else\n",
    "        isfile(file) || download(\"http://people.csail.mit.edu/deniz/models/tutorial/$file\",file)\n",
    "        r = Knet.load(file,\"results\")\n",
    "    end\n",
    "    println(minimum(r,dims=2))\n",
    "    return r\n",
    "end"
   ]
  },
  {
   "cell_type": "code",
   "execution_count": 53,
   "metadata": {},
   "outputs": [
    {
     "data": {
      "text/plain": [
       "perdimk (generic function with 1 method)"
      ]
     },
     "execution_count": 53,
     "metadata": {},
     "output_type": "execute_result"
    }
   ],
   "source": [
    "function perdimk(arr, dims)\n",
    "    ca = Array(arr)\n",
    "    pa = permutedims(ca,dims)\n",
    "    return KnetArray(pa)\n",
    "end"
   ]
  },
  {
   "cell_type": "code",
   "execution_count": 54,
   "metadata": {},
   "outputs": [],
   "source": [
    "struct Biaff; mlphead; mlpdep; w; b; end;\n",
    "#Biaff(mlph::MLP, mlpd::MLP, input::Int, output::Int)=Biaff(mlph, mlpd , param(output,input), param0(output))\n",
    "Biaff(rhid::Int, mlph::Int, m::Int, input::Int, output::Int) =\n",
    "    Biaff(MLP(rhid,mlph, m) , MLP(rhid,mlph, m) , param(m,m), param0(m))\n",
    "Biaff(rhid::Int, mlph::Int, m::Int) =\n",
    "    Biaff(MLP(rhid,mlph, m) , MLP(rhid,mlph, m) , param(m,m), param0(m))\n",
    "\n",
    "(bi::Biaff)(x) = begin\n",
    "    tts = size(x,3)\n",
    "    bbs = size(x,2)\n",
    "    Knet.@timeit timo \"mlphead\" archead = bi.mlphead(x)\n",
    "    Knet.@timeit timo \"mlpdep\" arcdep = bi.mlpdep(x[:,:,2:end])\n",
    "    hms = size(archead,1)\n",
    "    Knet.@timeit timo \"perdim1\" archeadp = perdimk(reshape(archead, hms, bbs, tts), [3, 1, 2])\n",
    "    Knet.@timeit timo \"perdim2\" archeadpp = perdimk(reshape(archead, hms, bbs, tts), [3, 2, 1])\n",
    "    archeadppr = reshape(archeadpp, bbs*tts, hms)\n",
    "    Knet.@timeit timo \"WH\" WH = bi.w * arcdep\n",
    "    Knet.@timeit timo \"perdim3\" WHp = perdimk(reshape(WH, size(WH,1), bbs, tts-1), [1,3,2])\n",
    "    Knet.@timeit timo \"HWH(bmm)\" HWH = Knet.bmm(archeadp, WHp)\n",
    "    Hb = archeadppr * bi.b \n",
    "    Hbr = reshape(Hb, tts, 1 , bbs)\n",
    "    S = HWH .+ Hbr\n",
    "end"
   ]
  },
  {
   "cell_type": "code",
   "execution_count": 55,
   "metadata": {
    "scrolled": false
   },
   "outputs": [
    {
     "data": {
      "text/plain": [
       "Chain((Embed(P(KnetArray{Float32,2}(50,400000))), LSTM(input=50,hidden=150,bidirectional,dropout=0.3), Biaff(Chain((Dense(P(KnetArray{Float32,2}(75,300)), P(KnetArray{Float32,1}(75)), Knet.relu), Dense(P(KnetArray{Float32,2}(50,75)), P(KnetArray{Float32,1}(50)), Knet.relu))), Chain((Dense(P(KnetArray{Float32,2}(75,300)), P(KnetArray{Float32,1}(75)), Knet.relu), Dense(P(KnetArray{Float32,2}(50,75)), P(KnetArray{Float32,1}(50)), Knet.relu))), P(KnetArray{Float32,2}(50,50)), P(KnetArray{Float32,1}(50)))))"
      ]
     },
     "execution_count": 55,
     "metadata": {},
     "output_type": "execute_result"
    }
   ],
   "source": [
    "mymodel6t = fModel3(wembedmat, 50, 150, 75, 50)"
   ]
  },
  {
   "cell_type": "code",
   "execution_count": 56,
   "metadata": {},
   "outputs": [
    {
     "data": {
      "text/latex": [
       "\\begin{verbatim}\n",
       "rnn = RNN(inputSize, hiddenSize; opts...)\n",
       "rnn(x; batchSizes) => y\n",
       "rnn.h, rnn.c  # hidden and cell states\n",
       "\\end{verbatim}\n",
       "\\texttt{RNN} returns a callable RNN object \\texttt{rnn}. Given a minibatch of sequences \\texttt{x}, \\texttt{rnn(x)} returns \\texttt{y}, the hidden states of the final layer for each time step. \\texttt{rnn.h} and \\texttt{rnn.c} fields can be used to set the initial hidden states and read the final hidden states of all layers.  Note that the final time step of \\texttt{y} always contains the final hidden state of the last layer, equivalent to \\texttt{rnn.h} for a single layer network.\n",
       "\n",
       "\\textbf{Dimensions:} The input \\texttt{x} can be 1, 2, or 3 dimensional and \\texttt{y} will have the same number of dimensions as \\texttt{x}. size(x)=(X,[B,T]) and size(y)=(H/2H,[B,T]) where X is inputSize, B is batchSize, T is seqLength, H is hiddenSize, 2H is for bidirectional RNNs. By default a 1-D \\texttt{x} represents a single instance for a single time step, a 2-D \\texttt{x} represents a single minibatch for a single time step, and a 3-D \\texttt{x} represents a sequence of identically sized minibatches for multiple time steps. The output \\texttt{y} gives the hidden state (of the final layer for multi-layer RNNs) for each time step. The fields \\texttt{rnn.h} and \\texttt{rnn.c} represent the hidden states of all layers in a single time step and have size (H,B,L/2L) where L is numLayers and 2L is for bidirectional RNNs.\n",
       "\n",
       "\\textbf{batchSizes:} If \\texttt{batchSizes=nothing} (default), all sequences in a minibatch are assumed to be the same length. If \\texttt{batchSizes} is an array of (non-increasing) integers, it gives us the batch size for each time step (allowing different sequences in the minibatch to have different lengths). In this case \\texttt{x} will typically be 2-D with the second dimension representing variable size batches for time steps. If \\texttt{batchSizes} is used, \\texttt{sum(batchSizes)} should equal \\texttt{length(x) ÷ size(x,1)}. When the batch size is different in every time step, hidden states will have size (H,B,L/2L) where B is always the size of the first (largest) minibatch.\n",
       "\n",
       "\\textbf{Hidden states:} The hidden and cell states are kept in \\texttt{rnn.h} and \\texttt{rnn.c} fields (the cell state is only used by LSTM). They can be initialized during construction using the \\texttt{h} and \\texttt{c} keyword arguments, or modified later by direct assignment. Valid values are \\texttt{nothing} (default), \\texttt{0}, or an array of the right type and size possibly wrapped in a \\texttt{Param}. If the value is \\texttt{nothing} the initial state is assumed to be zero and the final state is discarded keeping the value \\texttt{nothing}. If the value is \\texttt{0} the initial state is assumed to be zero and \\texttt{0} is replaced by the final state on return. If the value is a valid state, it is used as the initial state and is replaced by the final state on return.\n",
       "\n",
       "In a differentiation context the returned final hidden states will be wrapped in \\texttt{Result} types. This is necessary if the same RNN object is to be called multiple times in a single iteration. Between iterations (i.e. after diff/update) the hidden states need to be unboxed with e.g. \\texttt{rnn.h = value(rnn.h)} to prevent spurious dependencies. This happens automatically during the backward pass for GPU RNNs but needs to be done manually for CPU RNNs. See the \\href{https://github.com/denizyuret/Knet.jl/blob/master/tutorial/80.charlm.ipynb}{CharLM Tutorial} for an example.\n",
       "\n",
       "\\textbf{Keyword arguments for RNN:}\n",
       "\n",
       "\\begin{itemize}\n",
       "\\item \\texttt{h=nothing}: Initial hidden state.\n",
       "\n",
       "\n",
       "\\item \\texttt{c=nothing}: Initial cell state.\n",
       "\n",
       "\n",
       "\\item \\texttt{rnnType=:lstm} Type of RNN: One of :relu, :tanh, :lstm, :gru.\n",
       "\n",
       "\n",
       "\\item \\texttt{numLayers=1}: Number of RNN layers.\n",
       "\n",
       "\n",
       "\\item \\texttt{bidirectional=false}: Create a bidirectional RNN if \\texttt{true}.\n",
       "\n",
       "\n",
       "\\item \\texttt{dropout=0}: Dropout probability. Applied to input and between layers.\n",
       "\n",
       "\n",
       "\\item \\texttt{skipInput=false}: Do not multiply the input with a matrix if \\texttt{true}.\n",
       "\n",
       "\n",
       "\\item \\texttt{dataType=Float32}: Data type to use for weights.\n",
       "\n",
       "\n",
       "\\item \\texttt{algo=0}: Algorithm to use, see CUDNN docs for details.\n",
       "\n",
       "\n",
       "\\item \\texttt{seed=0}: Random number seed for dropout. Uses \\texttt{time()} if 0.\n",
       "\n",
       "\n",
       "\\item \\texttt{winit=xavier}: Weight initialization method for matrices.\n",
       "\n",
       "\n",
       "\\item \\texttt{binit=zeros}: Weight initialization method for bias vectors.\n",
       "\n",
       "\n",
       "\\item \\texttt{usegpu=(gpu()>=0)}: GPU used by default if one exists.\n",
       "\n",
       "\\end{itemize}\n",
       "\\textbf{Formulas:} RNNs compute the output h[t] for a given iteration from the recurrent input h[t-1] and the previous layer input x[t] given matrices W, R and biases bW, bR from the following equations:\n",
       "\n",
       "\\texttt{:relu} and \\texttt{:tanh}: Single gate RNN with activation function f:\n",
       "\n",
       "\\begin{verbatim}\n",
       "h[t] = f(W * x[t] .+ R * h[t-1] .+ bW .+ bR)\n",
       "\\end{verbatim}\n",
       "\\texttt{:gru}: Gated recurrent unit:\n",
       "\n",
       "\\begin{verbatim}\n",
       "i[t] = sigm(Wi * x[t] .+ Ri * h[t-1] .+ bWi .+ bRi) # input gate\n",
       "r[t] = sigm(Wr * x[t] .+ Rr * h[t-1] .+ bWr .+ bRr) # reset gate\n",
       "n[t] = tanh(Wn * x[t] .+ r[t] .* (Rn * h[t-1] .+ bRn) .+ bWn) # new gate\n",
       "h[t] = (1 - i[t]) .* n[t] .+ i[t] .* h[t-1]\n",
       "\\end{verbatim}\n",
       "\\texttt{:lstm}: Long short term memory unit with no peephole connections:\n",
       "\n",
       "\\begin{verbatim}\n",
       "i[t] = sigm(Wi * x[t] .+ Ri * h[t-1] .+ bWi .+ bRi) # input gate\n",
       "f[t] = sigm(Wf * x[t] .+ Rf * h[t-1] .+ bWf .+ bRf) # forget gate\n",
       "o[t] = sigm(Wo * x[t] .+ Ro * h[t-1] .+ bWo .+ bRo) # output gate\n",
       "n[t] = tanh(Wn * x[t] .+ Rn * h[t-1] .+ bWn .+ bRn) # new gate\n",
       "c[t] = f[t] .* c[t-1] .+ i[t] .* n[t]               # cell output\n",
       "h[t] = o[t] .* tanh(c[t])\n",
       "\\end{verbatim}\n"
      ],
      "text/markdown": [
       "```\n",
       "rnn = RNN(inputSize, hiddenSize; opts...)\n",
       "rnn(x; batchSizes) => y\n",
       "rnn.h, rnn.c  # hidden and cell states\n",
       "```\n",
       "\n",
       "`RNN` returns a callable RNN object `rnn`. Given a minibatch of sequences `x`, `rnn(x)` returns `y`, the hidden states of the final layer for each time step. `rnn.h` and `rnn.c` fields can be used to set the initial hidden states and read the final hidden states of all layers.  Note that the final time step of `y` always contains the final hidden state of the last layer, equivalent to `rnn.h` for a single layer network.\n",
       "\n",
       "**Dimensions:** The input `x` can be 1, 2, or 3 dimensional and `y` will have the same number of dimensions as `x`. size(x)=(X,[B,T]) and size(y)=(H/2H,[B,T]) where X is inputSize, B is batchSize, T is seqLength, H is hiddenSize, 2H is for bidirectional RNNs. By default a 1-D `x` represents a single instance for a single time step, a 2-D `x` represents a single minibatch for a single time step, and a 3-D `x` represents a sequence of identically sized minibatches for multiple time steps. The output `y` gives the hidden state (of the final layer for multi-layer RNNs) for each time step. The fields `rnn.h` and `rnn.c` represent the hidden states of all layers in a single time step and have size (H,B,L/2L) where L is numLayers and 2L is for bidirectional RNNs.\n",
       "\n",
       "**batchSizes:** If `batchSizes=nothing` (default), all sequences in a minibatch are assumed to be the same length. If `batchSizes` is an array of (non-increasing) integers, it gives us the batch size for each time step (allowing different sequences in the minibatch to have different lengths). In this case `x` will typically be 2-D with the second dimension representing variable size batches for time steps. If `batchSizes` is used, `sum(batchSizes)` should equal `length(x) ÷ size(x,1)`. When the batch size is different in every time step, hidden states will have size (H,B,L/2L) where B is always the size of the first (largest) minibatch.\n",
       "\n",
       "**Hidden states:** The hidden and cell states are kept in `rnn.h` and `rnn.c` fields (the cell state is only used by LSTM). They can be initialized during construction using the `h` and `c` keyword arguments, or modified later by direct assignment. Valid values are `nothing` (default), `0`, or an array of the right type and size possibly wrapped in a `Param`. If the value is `nothing` the initial state is assumed to be zero and the final state is discarded keeping the value `nothing`. If the value is `0` the initial state is assumed to be zero and `0` is replaced by the final state on return. If the value is a valid state, it is used as the initial state and is replaced by the final state on return.\n",
       "\n",
       "In a differentiation context the returned final hidden states will be wrapped in `Result` types. This is necessary if the same RNN object is to be called multiple times in a single iteration. Between iterations (i.e. after diff/update) the hidden states need to be unboxed with e.g. `rnn.h = value(rnn.h)` to prevent spurious dependencies. This happens automatically during the backward pass for GPU RNNs but needs to be done manually for CPU RNNs. See the [CharLM Tutorial](https://github.com/denizyuret/Knet.jl/blob/master/tutorial/80.charlm.ipynb) for an example.\n",
       "\n",
       "**Keyword arguments for RNN:**\n",
       "\n",
       "  * `h=nothing`: Initial hidden state.\n",
       "  * `c=nothing`: Initial cell state.\n",
       "  * `rnnType=:lstm` Type of RNN: One of :relu, :tanh, :lstm, :gru.\n",
       "  * `numLayers=1`: Number of RNN layers.\n",
       "  * `bidirectional=false`: Create a bidirectional RNN if `true`.\n",
       "  * `dropout=0`: Dropout probability. Applied to input and between layers.\n",
       "  * `skipInput=false`: Do not multiply the input with a matrix if `true`.\n",
       "  * `dataType=Float32`: Data type to use for weights.\n",
       "  * `algo=0`: Algorithm to use, see CUDNN docs for details.\n",
       "  * `seed=0`: Random number seed for dropout. Uses `time()` if 0.\n",
       "  * `winit=xavier`: Weight initialization method for matrices.\n",
       "  * `binit=zeros`: Weight initialization method for bias vectors.\n",
       "  * `usegpu=(gpu()>=0)`: GPU used by default if one exists.\n",
       "\n",
       "**Formulas:** RNNs compute the output h[t] for a given iteration from the recurrent input h[t-1] and the previous layer input x[t] given matrices W, R and biases bW, bR from the following equations:\n",
       "\n",
       "`:relu` and `:tanh`: Single gate RNN with activation function f:\n",
       "\n",
       "```\n",
       "h[t] = f(W * x[t] .+ R * h[t-1] .+ bW .+ bR)\n",
       "```\n",
       "\n",
       "`:gru`: Gated recurrent unit:\n",
       "\n",
       "```\n",
       "i[t] = sigm(Wi * x[t] .+ Ri * h[t-1] .+ bWi .+ bRi) # input gate\n",
       "r[t] = sigm(Wr * x[t] .+ Rr * h[t-1] .+ bWr .+ bRr) # reset gate\n",
       "n[t] = tanh(Wn * x[t] .+ r[t] .* (Rn * h[t-1] .+ bRn) .+ bWn) # new gate\n",
       "h[t] = (1 - i[t]) .* n[t] .+ i[t] .* h[t-1]\n",
       "```\n",
       "\n",
       "`:lstm`: Long short term memory unit with no peephole connections:\n",
       "\n",
       "```\n",
       "i[t] = sigm(Wi * x[t] .+ Ri * h[t-1] .+ bWi .+ bRi) # input gate\n",
       "f[t] = sigm(Wf * x[t] .+ Rf * h[t-1] .+ bWf .+ bRf) # forget gate\n",
       "o[t] = sigm(Wo * x[t] .+ Ro * h[t-1] .+ bWo .+ bRo) # output gate\n",
       "n[t] = tanh(Wn * x[t] .+ Rn * h[t-1] .+ bWn .+ bRn) # new gate\n",
       "c[t] = f[t] .* c[t-1] .+ i[t] .* n[t]               # cell output\n",
       "h[t] = o[t] .* tanh(c[t])\n",
       "```\n"
      ],
      "text/plain": [
       "\u001b[36m  rnn = RNN(inputSize, hiddenSize; opts...)\u001b[39m\n",
       "\u001b[36m  rnn(x; batchSizes) => y\u001b[39m\n",
       "\u001b[36m  rnn.h, rnn.c  # hidden and cell states\u001b[39m\n",
       "\n",
       "  \u001b[36mRNN\u001b[39m returns a callable RNN object \u001b[36mrnn\u001b[39m. Given a minibatch of\n",
       "  sequences \u001b[36mx\u001b[39m, \u001b[36mrnn(x)\u001b[39m returns \u001b[36my\u001b[39m, the hidden states of the final layer\n",
       "  for each time step. \u001b[36mrnn.h\u001b[39m and \u001b[36mrnn.c\u001b[39m fields can be used to set the\n",
       "  initial hidden states and read the final hidden states of all\n",
       "  layers. Note that the final time step of \u001b[36my\u001b[39m always contains the final\n",
       "  hidden state of the last layer, equivalent to \u001b[36mrnn.h\u001b[39m for a single\n",
       "  layer network.\n",
       "\n",
       "  \u001b[1mDimensions:\u001b[22m The input \u001b[36mx\u001b[39m can be 1, 2, or 3 dimensional and \u001b[36my\u001b[39m will\n",
       "  have the same number of dimensions as \u001b[36mx\u001b[39m. size(x)=(X,[B,T]) and\n",
       "  size(y)=(H/2H,[B,T]) where X is inputSize, B is batchSize, T is\n",
       "  seqLength, H is hiddenSize, 2H is for bidirectional RNNs. By default\n",
       "  a 1-D \u001b[36mx\u001b[39m represents a single instance for a single time step, a 2-D \u001b[36mx\u001b[39m\n",
       "  represents a single minibatch for a single time step, and a 3-D \u001b[36mx\u001b[39m\n",
       "  represents a sequence of identically sized minibatches for multiple\n",
       "  time steps. The output \u001b[36my\u001b[39m gives the hidden state (of the final layer\n",
       "  for multi-layer RNNs) for each time step. The fields \u001b[36mrnn.h\u001b[39m and \u001b[36mrnn.c\u001b[39m\n",
       "  represent the hidden states of all layers in a single time step and\n",
       "  have size (H,B,L/2L) where L is numLayers and 2L is for\n",
       "  bidirectional RNNs.\n",
       "\n",
       "  \u001b[1mbatchSizes:\u001b[22m If \u001b[36mbatchSizes=nothing\u001b[39m (default), all sequences in a\n",
       "  minibatch are assumed to be the same length. If \u001b[36mbatchSizes\u001b[39m is an\n",
       "  array of (non-increasing) integers, it gives us the batch size for\n",
       "  each time step (allowing different sequences in the minibatch to\n",
       "  have different lengths). In this case \u001b[36mx\u001b[39m will typically be 2-D with\n",
       "  the second dimension representing variable size batches for time\n",
       "  steps. If \u001b[36mbatchSizes\u001b[39m is used, \u001b[36msum(batchSizes)\u001b[39m should equal \u001b[36mlength(x)\n",
       "  ÷ size(x,1)\u001b[39m. When the batch size is different in every time step,\n",
       "  hidden states will have size (H,B,L/2L) where B is always the size\n",
       "  of the first (largest) minibatch.\n",
       "\n",
       "  \u001b[1mHidden states:\u001b[22m The hidden and cell states are kept in \u001b[36mrnn.h\u001b[39m and\n",
       "  \u001b[36mrnn.c\u001b[39m fields (the cell state is only used by LSTM). They can be\n",
       "  initialized during construction using the \u001b[36mh\u001b[39m and \u001b[36mc\u001b[39m keyword arguments,\n",
       "  or modified later by direct assignment. Valid values are \u001b[36mnothing\u001b[39m\n",
       "  (default), \u001b[36m0\u001b[39m, or an array of the right type and size possibly\n",
       "  wrapped in a \u001b[36mParam\u001b[39m. If the value is \u001b[36mnothing\u001b[39m the initial state is\n",
       "  assumed to be zero and the final state is discarded keeping the\n",
       "  value \u001b[36mnothing\u001b[39m. If the value is \u001b[36m0\u001b[39m the initial state is assumed to be\n",
       "  zero and \u001b[36m0\u001b[39m is replaced by the final state on return. If the value is\n",
       "  a valid state, it is used as the initial state and is replaced by\n",
       "  the final state on return.\n",
       "\n",
       "  In a differentiation context the returned final hidden states will\n",
       "  be wrapped in \u001b[36mResult\u001b[39m types. This is necessary if the same RNN object\n",
       "  is to be called multiple times in a single iteration. Between\n",
       "  iterations (i.e. after diff/update) the hidden states need to be\n",
       "  unboxed with e.g. \u001b[36mrnn.h = value(rnn.h)\u001b[39m to prevent spurious\n",
       "  dependencies. This happens automatically during the backward pass\n",
       "  for GPU RNNs but needs to be done manually for CPU RNNs. See the\n",
       "  CharLM Tutorial\n",
       "  (https://github.com/denizyuret/Knet.jl/blob/master/tutorial/80.charlm.ipynb)\n",
       "  for an example.\n",
       "\n",
       "  \u001b[1mKeyword arguments for RNN:\u001b[22m\n",
       "\n",
       "    •    \u001b[36mh=nothing\u001b[39m: Initial hidden state.\n",
       "\n",
       "    •    \u001b[36mc=nothing\u001b[39m: Initial cell state.\n",
       "\n",
       "    •    \u001b[36mrnnType=:lstm\u001b[39m Type of RNN: One of :relu, :tanh, :lstm,\n",
       "        :gru.\n",
       "\n",
       "    •    \u001b[36mnumLayers=1\u001b[39m: Number of RNN layers.\n",
       "\n",
       "    •    \u001b[36mbidirectional=false\u001b[39m: Create a bidirectional RNN if \u001b[36mtrue\u001b[39m.\n",
       "\n",
       "    •    \u001b[36mdropout=0\u001b[39m: Dropout probability. Applied to input and\n",
       "        between layers.\n",
       "\n",
       "    •    \u001b[36mskipInput=false\u001b[39m: Do not multiply the input with a matrix\n",
       "        if \u001b[36mtrue\u001b[39m.\n",
       "\n",
       "    •    \u001b[36mdataType=Float32\u001b[39m: Data type to use for weights.\n",
       "\n",
       "    •    \u001b[36malgo=0\u001b[39m: Algorithm to use, see CUDNN docs for details.\n",
       "\n",
       "    •    \u001b[36mseed=0\u001b[39m: Random number seed for dropout. Uses \u001b[36mtime()\u001b[39m if 0.\n",
       "\n",
       "    •    \u001b[36mwinit=xavier\u001b[39m: Weight initialization method for matrices.\n",
       "\n",
       "    •    \u001b[36mbinit=zeros\u001b[39m: Weight initialization method for bias\n",
       "        vectors.\n",
       "\n",
       "    •    \u001b[36musegpu=(gpu()>=0)\u001b[39m: GPU used by default if one exists.\n",
       "\n",
       "  \u001b[1mFormulas:\u001b[22m RNNs compute the output h[t] for a given iteration from\n",
       "  the recurrent input h[t-1] and the previous layer input x[t] given\n",
       "  matrices W, R and biases bW, bR from the following equations:\n",
       "\n",
       "  \u001b[36m:relu\u001b[39m and \u001b[36m:tanh\u001b[39m: Single gate RNN with activation function f:\n",
       "\n",
       "\u001b[36m  h[t] = f(W * x[t] .+ R * h[t-1] .+ bW .+ bR)\u001b[39m\n",
       "\n",
       "  \u001b[36m:gru\u001b[39m: Gated recurrent unit:\n",
       "\n",
       "\u001b[36m  i[t] = sigm(Wi * x[t] .+ Ri * h[t-1] .+ bWi .+ bRi) # input gate\u001b[39m\n",
       "\u001b[36m  r[t] = sigm(Wr * x[t] .+ Rr * h[t-1] .+ bWr .+ bRr) # reset gate\u001b[39m\n",
       "\u001b[36m  n[t] = tanh(Wn * x[t] .+ r[t] .* (Rn * h[t-1] .+ bRn) .+ bWn) # new gate\u001b[39m\n",
       "\u001b[36m  h[t] = (1 - i[t]) .* n[t] .+ i[t] .* h[t-1]\u001b[39m\n",
       "\n",
       "  \u001b[36m:lstm\u001b[39m: Long short term memory unit with no peephole connections:\n",
       "\n",
       "\u001b[36m  i[t] = sigm(Wi * x[t] .+ Ri * h[t-1] .+ bWi .+ bRi) # input gate\u001b[39m\n",
       "\u001b[36m  f[t] = sigm(Wf * x[t] .+ Rf * h[t-1] .+ bWf .+ bRf) # forget gate\u001b[39m\n",
       "\u001b[36m  o[t] = sigm(Wo * x[t] .+ Ro * h[t-1] .+ bWo .+ bRo) # output gate\u001b[39m\n",
       "\u001b[36m  n[t] = tanh(Wn * x[t] .+ Rn * h[t-1] .+ bWn .+ bRn) # new gate\u001b[39m\n",
       "\u001b[36m  c[t] = f[t] .* c[t-1] .+ i[t] .* n[t]               # cell output\u001b[39m\n",
       "\u001b[36m  h[t] = o[t] .* tanh(c[t])\u001b[39m"
      ]
     },
     "execution_count": 56,
     "metadata": {},
     "output_type": "execute_result"
    }
   ],
   "source": [
    "@doc Knet.RNN"
   ]
  },
  {
   "cell_type": "code",
   "execution_count": 57,
   "metadata": {
    "scrolled": false
   },
   "outputs": [
    {
     "name": "stdout",
     "output_type": "stream",
     "text": [
      "Train from scratch? stdin> n\n",
      "Float32[0.0935806; 0.562233; 0.0503031; 0.17563]\n"
     ]
    },
    {
     "data": {
      "text/plain": [
       "4×30 Array{Float32,2}:\n",
       " 2.53474   1.10816   0.829969  …  0.104319  0.0935806  0.106894 \n",
       " 2.49674   1.09393   0.851303     0.696203  0.682912   0.696377 \n",
       " 0.913721  0.430936  0.333672     0.058037  0.0503031  0.0584434\n",
       " 0.90563   0.421575  0.330669     0.181299  0.17563    0.184055 "
      ]
     },
     "execution_count": 57,
     "metadata": {},
     "output_type": "execute_result"
    }
   ],
   "source": [
    "r12 = trainresults(\"myfile113t_nfast_2.jld2\", mymodel6t)"
   ]
  },
  {
   "cell_type": "code",
   "execution_count": 58,
   "metadata": {},
   "outputs": [
    {
     "data": {
      "image/png": "[encoded data removed]"
     },
     "execution_count": 58,
     "metadata": {},
     "output_type": "execute_result"
    }
   ],
   "source": [
    "plot([r12[1,:], r12[2,:]], ylim=(0.0,5.0),\n",
    "    labels=[:trn1 :tst1],xlabel=\"Epochs\",ylabel=\"Loss\")"
   ]
  },
  {
   "cell_type": "code",
   "execution_count": 59,
   "metadata": {},
   "outputs": [
    {
     "data": {
      "image/png": "[encoded data removed]"
     },
     "execution_count": 59,
     "metadata": {},
     "output_type": "execute_result"
    }
   ],
   "source": [
    "plot([r12[3,:], r12[4,:]], ylim=(0.0,1,0),\n",
    "    labels=[:trn1 :tst1],xlabel=\"Epochs\",ylabel=\"Error\")"
   ]
  },
  {
   "cell_type": "code",
   "execution_count": 60,
   "metadata": {
    "scrolled": true
   },
   "outputs": [
    {
     "ename": "MethodError",
     "evalue": "MethodError: no method matching (::Chain)()\nClosest candidates are:\n  Chain(!Matched::Data) at In[36]:7\n  Chain(!Matched::Any) at In[36]:5\n  Chain(!Matched::Any, !Matched::MyData1) at In[36]:9\n  ...",
     "output_type": "error",
     "traceback": [
      "MethodError: no method matching (::Chain)()\nClosest candidates are:\n  Chain(!Matched::Data) at In[36]:7\n  Chain(!Matched::Any) at In[36]:5\n  Chain(!Matched::Any, !Matched::MyData1) at In[36]:9\n  ...",
      "",
      "Stacktrace:",
      " [1] top-level scope at In[60]:1"
     ]
    }
   ],
   "source": [
    "mymodel6t()"
   ]
  },
  {
   "cell_type": "code",
   "execution_count": 61,
   "metadata": {},
   "outputs": [
    {
     "data": {
      "text/plain": [
       "25×53 Array{Int64,2}:\n",
       " 399999    201      5    158  …     426      48     425       3\n",
       " 399999      1   3785     58       3752     341       3       9\n",
       " 399999  55527      2      6          1    1417   10979       3\n",
       " 399999      7      8    225          5    4828    4767       3\n",
       " 399999     50      1   8247       5614     806      58       9\n",
       " 399999     64     15      8  …    4290     330       9       3\n",
       " 399999     14      1     69        763       7     133       3\n",
       " 399999     30    200    442     129422       9      25       3\n",
       " 399999  19998    393   1202        500     536    3268       3\n",
       " 399999  19998    393   1202        500     536    3268       3\n",
       " 399999    583     76   5347  …       1  400000      25       3\n",
       " 399999     53      2     82          1  221649     694       3\n",
       " 399999     53      2     82          1  221649     694       3\n",
       " 399999      7      1   1653        875       4     546       3\n",
       " 399999     23     59     40          5     490     509       3\n",
       " 399999     50    650   6285  …       5     295     337  400000\n",
       " 399999    924  11623     17          7     522    3797       3\n",
       " 399999      9      1   2500        145     179    2781       3\n",
       " 399999  68955     72      5          6     358       3    6972\n",
       " 399999   2376  15674   3950       1308       2  201697    4822\n",
       " 399999     26    193   2843  …      32     440    1966    2528\n",
       " 399999     42    473    423      95746       2      37     554\n",
       " 399999   5056   5405      6        996       4    1277       3\n",
       " 399999     42    463    333        259       5    4353       3\n",
       " 399999     50    193  39811       3290    1162   28947     806"
      ]
     },
     "execution_count": 61,
     "metadata": {},
     "output_type": "execute_result"
    }
   ],
   "source": [
    "datmb2[1][1]"
   ]
  },
  {
   "cell_type": "code",
   "execution_count": 62,
   "metadata": {
    "scrolled": true
   },
   "outputs": [
    {
     "name": "stdout",
     "output_type": "stream",
     "text": [
      " \u001b[1m──────────────────────────────────────────────────────────────────\u001b[22m\n",
      " \u001b[1m                  \u001b[22m        Time                   Allocations      \n",
      "                   ──────────────────────   ───────────────────────\n",
      " Tot / % measured:      70.1s / 0.00%           5.91GiB / 0.00%    \n",
      "\n",
      " Section   ncalls     time   %tot     avg     alloc   %tot      avg\n",
      " ──────────────────────────────────────────────────────────────────\n",
      " \u001b[1m──────────────────────────────────────────────────────────────────\u001b[22m"
     ]
    }
   ],
   "source": [
    "print(timo)"
   ]
  },
  {
   "cell_type": "code",
   "execution_count": 63,
   "metadata": {},
   "outputs": [
    {
     "data": {
      "text/plain": [
       " \u001b[1m──────────────────────────────────────────────────────────────────\u001b[22m\n",
       " \u001b[1m                  \u001b[22m        Time                   Allocations      \n",
       "                   ──────────────────────   ───────────────────────\n",
       " Tot / % measured:      116μs / 0.00%           2.84KiB / 0.00%    \n",
       "\n",
       " Section   ncalls     time   %tot     avg     alloc   %tot      avg\n",
       " ──────────────────────────────────────────────────────────────────\n",
       " \u001b[1m──────────────────────────────────────────────────────────────────\u001b[22m"
      ]
     },
     "execution_count": 63,
     "metadata": {},
     "output_type": "execute_result"
    }
   ],
   "source": [
    "Knet.reset_timer!(timo)"
   ]
  },
  {
   "cell_type": "code",
   "execution_count": 64,
   "metadata": {
    "scrolled": true
   },
   "outputs": [
    {
     "data": {
      "text/latex": [
       "\\begin{verbatim}\n",
       "Knet.load(filename, args...; kwargs...)\n",
       "\\end{verbatim}\n",
       "Call \\texttt{FileIO.load} then deserialize Knet specific values.\n",
       "\n",
       "File format is determined by FileIO. JLD and JLD2 are supported. Other formats may work if supported by FileIO, please refer to the documentation of FileIO and the specific format. Example:\n",
       "\n",
       "\\begin{verbatim}\n",
       "Knet.load(\"foo.jld2\")           # returns a (\"name\"=>value) dictionary\n",
       "Knet.load(\"foo.jld2\", \"name1\")  # returns the value of \"name1\" in \"foo.jld2\"\n",
       "Knet.load(\"foo.jld2\", \"name1\", \"name2\")   # returns tuple (value1, value2)\n",
       "\\end{verbatim}\n"
      ],
      "text/markdown": [
       "```\n",
       "Knet.load(filename, args...; kwargs...)\n",
       "```\n",
       "\n",
       "Call `FileIO.load` then deserialize Knet specific values.\n",
       "\n",
       "File format is determined by FileIO. JLD and JLD2 are supported. Other formats may work if supported by FileIO, please refer to the documentation of FileIO and the specific format. Example:\n",
       "\n",
       "```\n",
       "Knet.load(\"foo.jld2\")           # returns a (\"name\"=>value) dictionary\n",
       "Knet.load(\"foo.jld2\", \"name1\")  # returns the value of \"name1\" in \"foo.jld2\"\n",
       "Knet.load(\"foo.jld2\", \"name1\", \"name2\")   # returns tuple (value1, value2)\n",
       "```\n"
      ],
      "text/plain": [
       "\u001b[36m  Knet.load(filename, args...; kwargs...)\u001b[39m\n",
       "\n",
       "  Call \u001b[36mFileIO.load\u001b[39m then deserialize Knet specific values.\n",
       "\n",
       "  File format is determined by FileIO. JLD and JLD2 are supported.\n",
       "  Other formats may work if supported by FileIO, please refer to the\n",
       "  documentation of FileIO and the specific format. Example:\n",
       "\n",
       "\u001b[36m  Knet.load(\"foo.jld2\")           # returns a (\"name\"=>value) dictionary\u001b[39m\n",
       "\u001b[36m  Knet.load(\"foo.jld2\", \"name1\")  # returns the value of \"name1\" in \"foo.jld2\"\u001b[39m\n",
       "\u001b[36m  Knet.load(\"foo.jld2\", \"name1\", \"name2\")   # returns tuple (value1, value2)\u001b[39m"
      ]
     },
     "execution_count": 64,
     "metadata": {},
     "output_type": "execute_result"
    }
   ],
   "source": [
    "@doc Knet.load"
   ]
  },
  {
   "cell_type": "code",
   "execution_count": 65,
   "metadata": {},
   "outputs": [
    {
     "data": {
      "text/plain": [
       "asdasin (generic function with 1 method)"
      ]
     },
     "execution_count": 65,
     "metadata": {},
     "output_type": "execute_result"
    }
   ],
   "source": [
    "asdasin(x) = reshape(cat(rootind,map(getind,x), dims=1),1,length(x)+1)"
   ]
  },
  {
   "cell_type": "code",
   "execution_count": 72,
   "metadata": {
    "scrolled": false
   },
   "outputs": [
    {
     "name": "stdout",
     "output_type": "stream",
     "text": [
      "Enter a sentence to be parsed: \n",
      "stdin> We worked really hard for this project.\n"
     ]
    },
    {
     "data": {
      "text/plain": [
       "9×8×1 KnetArray{Float32,3}:\n",
       "[:, :, 1] =\n",
       " -11.6602     6.36636   -21.6359    …  -13.8338   -14.8665 \n",
       "  -6.20239   -8.96421   -16.2589       -13.9588    -7.71908\n",
       "   7.02403   -0.713257   -2.48703        2.05475    6.47885\n",
       "  -9.79687   -7.93826   -15.4541        -9.24319   -9.88676\n",
       "   5.0923     2.28437    -0.473339       2.04416    4.55636\n",
       " -24.5204   -14.5041    -33.0957    …  -20.1365   -23.1007 \n",
       " -23.9654   -12.4468    -29.0731       -16.7158   -21.2377 \n",
       " -12.2982    -6.68572   -23.8598        -8.60032   -8.92816\n",
       " -31.2221   -22.4409    -39.3125       -27.2376   -29.4264 "
      ]
     },
     "execution_count": 72,
     "metadata": {},
     "output_type": "execute_result"
    }
   ],
   "source": [
    "println(\"Enter a sentence to be parsed: \")\n",
    "sentence = readline()\n",
    "result = mymodel6t(asdasin(take_input(sentence)))"
   ]
  },
  {
   "cell_type": "code",
   "execution_count": 69,
   "metadata": {},
   "outputs": [
    {
     "data": {
      "text/latex": [
       "\\begin{verbatim}\n",
       "Knet.load(filename, args...; kwargs...)\n",
       "\\end{verbatim}\n",
       "Call \\texttt{FileIO.load} then deserialize Knet specific values.\n",
       "\n",
       "File format is determined by FileIO. JLD and JLD2 are supported. Other formats may work if supported by FileIO, please refer to the documentation of FileIO and the specific format. Example:\n",
       "\n",
       "\\begin{verbatim}\n",
       "Knet.load(\"foo.jld2\")           # returns a (\"name\"=>value) dictionary\n",
       "Knet.load(\"foo.jld2\", \"name1\")  # returns the value of \"name1\" in \"foo.jld2\"\n",
       "Knet.load(\"foo.jld2\", \"name1\", \"name2\")   # returns tuple (value1, value2)\n",
       "\\end{verbatim}\n"
      ],
      "text/markdown": [
       "```\n",
       "Knet.load(filename, args...; kwargs...)\n",
       "```\n",
       "\n",
       "Call `FileIO.load` then deserialize Knet specific values.\n",
       "\n",
       "File format is determined by FileIO. JLD and JLD2 are supported. Other formats may work if supported by FileIO, please refer to the documentation of FileIO and the specific format. Example:\n",
       "\n",
       "```\n",
       "Knet.load(\"foo.jld2\")           # returns a (\"name\"=>value) dictionary\n",
       "Knet.load(\"foo.jld2\", \"name1\")  # returns the value of \"name1\" in \"foo.jld2\"\n",
       "Knet.load(\"foo.jld2\", \"name1\", \"name2\")   # returns tuple (value1, value2)\n",
       "```\n"
      ],
      "text/plain": [
       "\u001b[36m  Knet.load(filename, args...; kwargs...)\u001b[39m\n",
       "\n",
       "  Call \u001b[36mFileIO.load\u001b[39m then deserialize Knet specific values.\n",
       "\n",
       "  File format is determined by FileIO. JLD and JLD2 are supported.\n",
       "  Other formats may work if supported by FileIO, please refer to the\n",
       "  documentation of FileIO and the specific format. Example:\n",
       "\n",
       "\u001b[36m  Knet.load(\"foo.jld2\")           # returns a (\"name\"=>value) dictionary\u001b[39m\n",
       "\u001b[36m  Knet.load(\"foo.jld2\", \"name1\")  # returns the value of \"name1\" in \"foo.jld2\"\u001b[39m\n",
       "\u001b[36m  Knet.load(\"foo.jld2\", \"name1\", \"name2\")   # returns tuple (value1, value2)\u001b[39m"
      ]
     },
     "execution_count": 69,
     "metadata": {},
     "output_type": "execute_result"
    }
   ],
   "source": [
    "@doc Knet.load"
   ]
  },
  {
   "cell_type": "code",
   "execution_count": 70,
   "metadata": {},
   "outputs": [
    {
     "data": {
      "text/plain": [
       "Chain((Embed(P(KnetArray{Float32,2}(50,400000))), LSTM(input=50,hidden=150,bidirectional,dropout=0.3), Biaff(Chain((Dense(P(KnetArray{Float32,2}(75,300)), P(KnetArray{Float32,1}(75)), Knet.relu), Dense(P(KnetArray{Float32,2}(50,75)), P(KnetArray{Float32,1}(50)), Knet.relu))), Chain((Dense(P(KnetArray{Float32,2}(75,300)), P(KnetArray{Float32,1}(75)), Knet.relu), Dense(P(KnetArray{Float32,2}(50,75)), P(KnetArray{Float32,1}(50)), Knet.relu))), P(KnetArray{Float32,2}(50,50)), P(KnetArray{Float32,1}(50)))))"
      ]
     },
     "execution_count": 70,
     "metadata": {},
     "output_type": "execute_result"
    }
   ],
   "source": [
    "mymodel6t = Knet.load(\"mymodel6t21err1_19err_1.jld2\",\"model16t_19err\")"
   ]
  }
 ],
 "metadata": {
  "kernelspec": {
   "display_name": "Julia 1.1.0",
   "language": "julia",
   "name": "julia-1.1"
  },
  "language_info": {
   "file_extension": ".jl",
   "mimetype": "application/julia",
   "name": "julia",
   "version": "1.1.0"
  }
 },
 "nbformat": 4,
 "nbformat_minor": 2
}
